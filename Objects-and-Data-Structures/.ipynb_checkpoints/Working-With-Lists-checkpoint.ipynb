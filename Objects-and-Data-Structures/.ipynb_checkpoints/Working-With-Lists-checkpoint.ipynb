{
 "cells": [
  {
   "cell_type": "markdown",
   "id": "10668fdd-8d3b-4866-9149-b68971c6c04d",
   "metadata": {},
   "source": [
    "# Lists"
   ]
  },
  {
   "cell_type": "markdown",
   "id": "b23ac99a-c9e1-4356-8794-4ac0dab98dd2",
   "metadata": {},
   "source": [
    "## Overview\n",
    "\n",
    "Lists can be thought of the most general version of a _sequence_ in Python. Unlike strings, they are mutable, meaning the elements inside a list can be changed.\n",
    "\n",
    "Lists are one of 4 built-in data types in Python used to store collections of data, the other 3 are Tuple, Set, and Dictionary, all with different qualities and usage."
   ]
  },
  {
   "cell_type": "markdown",
   "id": "812063a4-68bb-434b-8470-a3eca7038cf9",
   "metadata": {},
   "source": [
    "## Create a List\n",
    "\n",
    "Let's start by constructing a basic list."
   ]
  },
  {
   "cell_type": "code",
   "execution_count": 1,
   "id": "64b688b9-061e-4c0c-83fe-9e303ebf4daa",
   "metadata": {},
   "outputs": [],
   "source": [
    "# Let's conjure up a list of elements\n",
    "elements = ['Earth', 'Fire', 'Wind', 'Water', 'Earth']"
   ]
  },
  {
   "cell_type": "markdown",
   "id": "ff8c5016-193f-4edd-807e-8b696f83b280",
   "metadata": {},
   "source": [
    "We created a list of _strings_, but lists can hold different object types."
   ]
  },
  {
   "cell_type": "code",
   "execution_count": 2,
   "id": "6228f97e-029e-4481-b92e-701963614e96",
   "metadata": {},
   "outputs": [],
   "source": [
    "# A list containing various object types\n",
    "numbers = [1, 'Two', [3,3,3]]"
   ]
  },
  {
   "cell_type": "markdown",
   "id": "0fe64558-3ec2-4e27-b14f-e8fe63882369",
   "metadata": {},
   "source": [
    "## Basic List Methods\n",
    "\n",
    "Lists in Python tend to be more flexible than arrays in other languages for two primary reasons: they have no fixed size (meaning we don't have to specify how big a list will be) and they have no fixed type constraint (like we've seen above).\n",
    "\n",
    "Here are some common methods for lists."
   ]
  },
  {
   "cell_type": "markdown",
   "id": "7f07abdc-71c0-448a-99f6-d674e3b77e8d",
   "metadata": {},
   "source": [
    "### Append\n",
    "\n",
    "Use the `append()` method to permanently add an item to the _end_ of a list."
   ]
  },
  {
   "cell_type": "code",
   "execution_count": 3,
   "id": "06203090-2dbf-493a-ba50-b87c314e1ae6",
   "metadata": {},
   "outputs": [
    {
     "data": {
      "text/plain": [
       "['Earth', 'Fire', 'Wind', 'Water', 'Earth', 'Heart']"
      ]
     },
     "execution_count": 3,
     "metadata": {},
     "output_type": "execute_result"
    }
   ],
   "source": [
    "# Append a new element to the list\n",
    "elements.append('Heart')\n",
    "elements"
   ]
  },
  {
   "cell_type": "markdown",
   "id": "e4539e61-a753-44b1-8c2d-3ec026d9cae0",
   "metadata": {},
   "source": [
    "### Copy\n",
    "\n",
    "There are three ways to copy a list object:\n",
    "1. Assignment\n",
    "2. Shallow Copy\n",
    "3. Deep Copy"
   ]
  },
  {
   "cell_type": "markdown",
   "id": "7c418e85-d416-49a2-ada7-398815a87d93",
   "metadata": {},
   "source": [
    "#### Assignment (Alias)\n",
    "\n",
    "Assignments aren't really copies, rather another reference to the same object in memory, i.e., an alias. This means when you change the object in memory it is reflected in both references."
   ]
  },
  {
   "cell_type": "code",
   "execution_count": 4,
   "id": "4a6ac616-315c-4b8e-a626-5524a067f7db",
   "metadata": {},
   "outputs": [
    {
     "name": "stdout",
     "output_type": "stream",
     "text": [
      "Original : [1, 2, 3]\n",
      "Alias    : [1, 2, 3]\n"
     ]
    }
   ],
   "source": [
    "orig_list = [1, 2, 3]\n",
    "alias_list = orig_list\n",
    "print(f'Original : {orig_list}')\n",
    "print(f'Alias    : {alias_list}')"
   ]
  },
  {
   "cell_type": "code",
   "execution_count": 5,
   "id": "d4edad65-bcdc-467b-96ef-ed4e9ff970e3",
   "metadata": {},
   "outputs": [
    {
     "name": "stdout",
     "output_type": "stream",
     "text": [
      "Original : [1, 2, 3, [4, 5, 6]]\n",
      "Alias    : [1, 2, 3, [4, 5, 6]]\n"
     ]
    }
   ],
   "source": [
    "orig_list.append([4,5,6])\n",
    "print(f'Original : {orig_list}')\n",
    "print(f'Alias    : {alias_list}')"
   ]
  },
  {
   "cell_type": "markdown",
   "id": "5696b5c3-6da6-4316-8e68-8acee1dc7f42",
   "metadata": {},
   "source": [
    "We can verify this by checking their ID's"
   ]
  },
  {
   "cell_type": "code",
   "execution_count": 6,
   "id": "dc5098cc-33c7-4822-b575-095386142ed5",
   "metadata": {},
   "outputs": [
    {
     "data": {
      "text/plain": [
       "True"
      ]
     },
     "execution_count": 6,
     "metadata": {},
     "output_type": "execute_result"
    }
   ],
   "source": [
    "id(orig_list) == id(alias_list)"
   ]
  },
  {
   "cell_type": "markdown",
   "id": "e2d2f178-bd62-4df3-bd29-886a4d1b06c9",
   "metadata": {},
   "source": [
    "#### Shallow Copy\n",
    "\n",
    "A shallow copy of an existing list is a new list containing references to the objects stored in the original list. In other words, when you create a shallow copy of a list, Python constructs a new list with a new identity. Then, it inserts references to the objects in the original list into the new list.\n",
    "\n",
    "There are at least three different ways to create shallow copies of an existing list. You can use:\n",
    "\n",
    "- The slicing operator, `[:]`\n",
    "- The `.copy()` method on the list object\n",
    "- The `copy()` function from the copy module"
   ]
  },
  {
   "cell_type": "code",
   "execution_count": 7,
   "id": "3c66aa6f-023a-4e5c-b518-ca3aa84f39a7",
   "metadata": {},
   "outputs": [
    {
     "name": "stdout",
     "output_type": "stream",
     "text": [
      "Original : [1, 2, 3, [4, 5, 6]]\n",
      "Shallow  : [1, 2, 3, [4, 5, 6]]\n"
     ]
    }
   ],
   "source": [
    "shal_list = orig_list.copy()\n",
    "print(f'Original : {orig_list}')\n",
    "print(f'Shallow  : {shal_list}')"
   ]
  },
  {
   "cell_type": "code",
   "execution_count": 8,
   "id": "3f7868d2-3952-4c0b-847f-cf11c6056077",
   "metadata": {},
   "outputs": [
    {
     "name": "stdout",
     "output_type": "stream",
     "text": [
      "Original : [1, 2, 3, [4, 5, 6], 'Python']\n",
      "Shallow  : [1, 2, 3, [4, 5, 6]]\n"
     ]
    }
   ],
   "source": [
    "orig_list.append('Python')\n",
    "print(f'Original : {orig_list}')\n",
    "print(f'Shallow  : {shal_list}')"
   ]
  },
  {
   "cell_type": "markdown",
   "id": "946566e9-52ea-46b4-92ec-7a755a5d9664",
   "metadata": {},
   "source": [
    "The appended \"Python\" string is now not included when copying this list. We can again verify by checking their ID's."
   ]
  },
  {
   "cell_type": "code",
   "execution_count": 9,
   "id": "044e4986-ca05-4283-9c28-873eaa5780d5",
   "metadata": {},
   "outputs": [
    {
     "name": "stdout",
     "output_type": "stream",
     "text": [
      "False\n",
      "True\n"
     ]
    }
   ],
   "source": [
    "print(id(orig_list) == id(shal_list)) # list object has different ID\n",
    "print(id(orig_list[3]) == id(shal_list[3])) # references to items still have same ID"
   ]
  },
  {
   "cell_type": "markdown",
   "id": "dabe2e78-32c5-4031-ba13-46d42ce282f8",
   "metadata": {},
   "source": [
    "#### Deep Copy\n",
    "\n",
    "Sometimes you may need to build a complete copy of an existing list. In other words, you want a copy that creates a new list object and also creates new copies of the contained elements. \n",
    "\n",
    "To do so, you use the `deepcopy()` function from the copy module."
   ]
  },
  {
   "cell_type": "code",
   "execution_count": 10,
   "id": "fd2321c5-fa63-44be-bc0a-c8e7665fa802",
   "metadata": {},
   "outputs": [
    {
     "name": "stdout",
     "output_type": "stream",
     "text": [
      "Original : [1, 2, 3, [4, 5, 6], 'Python']\n",
      "Deep     : [1, 2, 3, [4, 5, 6], 'Python']\n"
     ]
    }
   ],
   "source": [
    "import copy\n",
    "deep_list = copy.deepcopy(orig_list)\n",
    "print(f'Original : {orig_list}')\n",
    "print(f'Deep     : {deep_list}')"
   ]
  },
  {
   "cell_type": "code",
   "execution_count": 11,
   "id": "a35987fe-0c4c-42df-b982-059175d1877b",
   "metadata": {},
   "outputs": [
    {
     "name": "stdout",
     "output_type": "stream",
     "text": [
      "False\n",
      "False\n",
      "True\n"
     ]
    }
   ],
   "source": [
    "print(id(orig_list) == id(deep_list))\n",
    "print(id(orig_list[3]) == id(deep_list[3])) # List object has different ID\n",
    "print(id(orig_list[3][0]) == id(deep_list[3][0])) # Immutable object within list still has same ID"
   ]
  },
  {
   "cell_type": "markdown",
   "id": "2890dff8-9dd7-46c1-be32-74a1b1f6502b",
   "metadata": {},
   "source": [
    "In this example, even though we used `deepcopy()`, the immutable objects in the deep list are aliases of the items in the original list. That behavior makes sense because you can’t change immutable objects in place. This behavior optimizes the memory consumption of your code when you’re working with multiple copies of a list."
   ]
  },
  {
   "cell_type": "markdown",
   "id": "054464bb-f095-42e3-996a-1fb4aa610fad",
   "metadata": {},
   "source": [
    "### Count\n",
    "\n",
    "The `count()` method returns the number of occurences the specified value appears in the list."
   ]
  },
  {
   "cell_type": "code",
   "execution_count": 12,
   "id": "6a90c35c-ed2c-4c23-8a02-9efd0cee578c",
   "metadata": {},
   "outputs": [
    {
     "data": {
      "text/plain": [
       "2"
      ]
     },
     "execution_count": 12,
     "metadata": {},
     "output_type": "execute_result"
    }
   ],
   "source": [
    "elements.count('Earth')"
   ]
  },
  {
   "cell_type": "markdown",
   "id": "0dfcb69f-778c-428a-8af1-61ed7a4c5543",
   "metadata": {},
   "source": [
    "### Index\n",
    "\n",
    "We can find the index of the first occurence of an item using `index()` function."
   ]
  },
  {
   "cell_type": "code",
   "execution_count": 13,
   "id": "c1010dd8-f3bc-471d-a0d6-735468cd9985",
   "metadata": {},
   "outputs": [
    {
     "data": {
      "text/plain": [
       "3"
      ]
     },
     "execution_count": 13,
     "metadata": {},
     "output_type": "execute_result"
    }
   ],
   "source": [
    "elements.index('Water')"
   ]
  },
  {
   "cell_type": "markdown",
   "id": "ef29ecaf-627d-4fe6-a904-09e2c453a542",
   "metadata": {},
   "source": [
    "### Insert\n",
    "\n",
    "This will insert the specified value at the specified position."
   ]
  },
  {
   "cell_type": "code",
   "execution_count": 14,
   "id": "55385f15-6423-4e67-b5ad-bac54cba3ec9",
   "metadata": {},
   "outputs": [
    {
     "data": {
      "text/plain": [
       "['Earth', 'Air', 'Fire', 'Wind', 'Water', 'Earth', 'Heart']"
      ]
     },
     "execution_count": 14,
     "metadata": {},
     "output_type": "execute_result"
    }
   ],
   "source": [
    "elements.insert(1, 'Air')\n",
    "elements"
   ]
  },
  {
   "cell_type": "markdown",
   "id": "9b266858-b471-44be-aa8a-786ec8536126",
   "metadata": {},
   "source": [
    "### Pop\n",
    "\n",
    "Use `pop()` to \"pop off\" an item from the list. This removes and returns the item. By default, pop takes off the last index, but you can also specify which index to pop."
   ]
  },
  {
   "cell_type": "code",
   "execution_count": 15,
   "id": "24abf03f-dd09-4188-adf9-401bbfd9aada",
   "metadata": {},
   "outputs": [
    {
     "name": "stdout",
     "output_type": "stream",
     "text": [
      "Earth\n",
      "['Earth', 'Air', 'Fire', 'Wind', 'Water', 'Heart']\n"
     ]
    }
   ],
   "source": [
    "nth_element = elements.pop(5) # pop off 0-indexed item\n",
    "print(nth_element)\n",
    "print(elements)"
   ]
  },
  {
   "cell_type": "markdown",
   "id": "d79d0c6e-29e6-41df-8d63-f824dbbc39be",
   "metadata": {},
   "source": [
    "### Remove\n",
    "\n",
    "Use `.remove()` method to remove the first occurence of an item of the specified value."
   ]
  },
  {
   "cell_type": "code",
   "execution_count": 16,
   "id": "4205c8df-a9f4-4ed6-bc05-95130440175b",
   "metadata": {},
   "outputs": [
    {
     "data": {
      "text/plain": [
       "['Earth', 'Fire', 'Wind', 'Water', 'Heart']"
      ]
     },
     "execution_count": 16,
     "metadata": {},
     "output_type": "execute_result"
    }
   ],
   "source": [
    "elements.remove('Air')\n",
    "elements"
   ]
  },
  {
   "cell_type": "markdown",
   "id": "8a6be17a-6bf1-4bb7-aaed-9e0053395254",
   "metadata": {},
   "source": [
    "### Reverse\n",
    "\n",
    "Use `.reverse()` method to reverse the items of a list in-place:"
   ]
  },
  {
   "cell_type": "code",
   "execution_count": 17,
   "id": "1cbc4d45-dd86-4513-92eb-4521ac6e0aee",
   "metadata": {},
   "outputs": [
    {
     "data": {
      "text/plain": [
       "['Heart', 'Water', 'Wind', 'Fire', 'Earth']"
      ]
     },
     "execution_count": 17,
     "metadata": {},
     "output_type": "execute_result"
    }
   ],
   "source": [
    "elements.reverse()\n",
    "elements"
   ]
  },
  {
   "cell_type": "markdown",
   "id": "f025674b-6991-44a5-9fd6-5af4fc06b09a",
   "metadata": {},
   "source": [
    "### Sort\n",
    "\n",
    "Use `.sort()` method to list the items in ascending order in place. You can set the parameter `reverse=True` to sort in descending order.\n",
    "\n",
    "You can also specify the sorting method using a function passed to the `key=myFunc` parameter."
   ]
  },
  {
   "cell_type": "code",
   "execution_count": 18,
   "id": "527a1258-bafc-4962-99f2-ec8e4c3e8b0e",
   "metadata": {},
   "outputs": [
    {
     "data": {
      "text/plain": [
       "['Earth', 'Fire', 'Heart', 'Water', 'Wind']"
      ]
     },
     "execution_count": 18,
     "metadata": {},
     "output_type": "execute_result"
    }
   ],
   "source": [
    "elements.sort()\n",
    "elements"
   ]
  },
  {
   "cell_type": "code",
   "execution_count": 19,
   "id": "38e6aefa-4b87-426a-bb6c-5800e582d2b6",
   "metadata": {},
   "outputs": [
    {
     "data": {
      "text/plain": [
       "['Wind', 'Water', 'Heart', 'Fire', 'Earth']"
      ]
     },
     "execution_count": 19,
     "metadata": {},
     "output_type": "execute_result"
    }
   ],
   "source": [
    "elements.sort(reverse=True)\n",
    "elements"
   ]
  },
  {
   "cell_type": "code",
   "execution_count": 20,
   "id": "ce1e663a-cb5a-43a2-a99f-892809ebe791",
   "metadata": {},
   "outputs": [
    {
     "data": {
      "text/plain": [
       "['Wind', 'Fire', 'Water', 'Heart', 'Earth']"
      ]
     },
     "execution_count": 20,
     "metadata": {},
     "output_type": "execute_result"
    }
   ],
   "source": [
    "def len_func(x):\n",
    "    return len(x)\n",
    "\n",
    "elements.sort(key=len_func)\n",
    "elements"
   ]
  },
  {
   "cell_type": "markdown",
   "id": "cce2552f-494f-4bbd-b9a2-d21c9ec02575",
   "metadata": {},
   "source": [
    "## Index and Slice a List\n",
    "\n",
    "Indexing and slicing works very similarly to strings in Python."
   ]
  },
  {
   "cell_type": "markdown",
   "id": "52411fdb-c414-41f6-b33d-0b6f63540673",
   "metadata": {},
   "source": [
    "Grab an item at a specified index"
   ]
  },
  {
   "cell_type": "code",
   "execution_count": 21,
   "id": "78a50b24-c16f-4c38-a274-9c7940e9f8a4",
   "metadata": {},
   "outputs": [
    {
     "data": {
      "text/plain": [
       "'Water'"
      ]
     },
     "execution_count": 21,
     "metadata": {},
     "output_type": "execute_result"
    }
   ],
   "source": [
    "# Return the 2nd indexed item\n",
    "elements[2]"
   ]
  },
  {
   "cell_type": "markdown",
   "id": "57a7ab4e-13e2-4070-9769-597d2984f265",
   "metadata": {},
   "source": [
    "Grab everything from index 1 and beyond"
   ]
  },
  {
   "cell_type": "code",
   "execution_count": 22,
   "id": "cfec029d-47fb-446e-8090-d09df37f9fc9",
   "metadata": {},
   "outputs": [
    {
     "data": {
      "text/plain": [
       "['Fire', 'Water', 'Heart', 'Earth']"
      ]
     },
     "execution_count": 22,
     "metadata": {},
     "output_type": "execute_result"
    }
   ],
   "source": [
    "elements[1:]"
   ]
  },
  {
   "cell_type": "markdown",
   "id": "66af6874-a5ab-4ebd-b7da-1b7fbe076e75",
   "metadata": {},
   "source": [
    "Grab everything up to (but not including) index 3"
   ]
  },
  {
   "cell_type": "code",
   "execution_count": 23,
   "id": "8fe40da9-bc36-40cf-8135-9c14c6ead81d",
   "metadata": {},
   "outputs": [
    {
     "data": {
      "text/plain": [
       "['Wind', 'Fire', 'Water']"
      ]
     },
     "execution_count": 23,
     "metadata": {},
     "output_type": "execute_result"
    }
   ],
   "source": [
    "elements[:3]"
   ]
  },
  {
   "cell_type": "markdown",
   "id": "0e28f460-9d3f-4489-8078-ae6382b95046",
   "metadata": {},
   "source": [
    "Grab items within a range of indices. The first index is inclusive and the last is exclusive."
   ]
  },
  {
   "cell_type": "code",
   "execution_count": 24,
   "id": "2589645b-ea4c-49f7-a674-9aeb2e6e0446",
   "metadata": {},
   "outputs": [
    {
     "data": {
      "text/plain": [
       "['Water', 'Heart']"
      ]
     },
     "execution_count": 24,
     "metadata": {},
     "output_type": "execute_result"
    }
   ],
   "source": [
    "# Returns items at index 2 and 3\n",
    "elements[2:4]"
   ]
  },
  {
   "cell_type": "markdown",
   "id": "148ec3c1-62c7-42f7-ae67-b7b27ce0a3a8",
   "metadata": {},
   "source": [
    "Grab everthing. This is the same as simply returning the list."
   ]
  },
  {
   "cell_type": "code",
   "execution_count": 25,
   "id": "f2063bea-467c-427b-bf55-0e93b08a1e75",
   "metadata": {},
   "outputs": [
    {
     "data": {
      "text/plain": [
       "['Wind', 'Fire', 'Water', 'Heart', 'Earth']"
      ]
     },
     "execution_count": 25,
     "metadata": {},
     "output_type": "execute_result"
    }
   ],
   "source": [
    "elements[:]"
   ]
  },
  {
   "cell_type": "markdown",
   "id": "78a83c43-e0ea-4b07-9015-7eba94e4e9c7",
   "metadata": {},
   "source": [
    "You can also grab items starting at the end using negative indexing. _-1_ refers to the last item, _-2_ refers to the second to last item, etc. You can also grab ranges utilizing negative indexing. This can be useful when you won't know the length of your list or have an increasing/decreasing number of items."
   ]
  },
  {
   "cell_type": "code",
   "execution_count": 26,
   "id": "078080f2-a3f3-4be6-9991-3ec1d4fd8cbc",
   "metadata": {},
   "outputs": [
    {
     "data": {
      "text/plain": [
       "'Earth'"
      ]
     },
     "execution_count": 26,
     "metadata": {},
     "output_type": "execute_result"
    }
   ],
   "source": [
    "# Return the last item\n",
    "elements[-1]"
   ]
  },
  {
   "cell_type": "code",
   "execution_count": 27,
   "id": "66475651-508c-4375-a1af-150133bb3530",
   "metadata": {},
   "outputs": [
    {
     "data": {
      "text/plain": [
       "['Water', 'Heart', 'Earth']"
      ]
     },
     "execution_count": 27,
     "metadata": {},
     "output_type": "execute_result"
    }
   ],
   "source": [
    "# Return the third to last item and everything after\n",
    "elements[-3:]"
   ]
  },
  {
   "cell_type": "code",
   "execution_count": 28,
   "id": "caf45b31-6f05-411c-a4b5-99d763d399ca",
   "metadata": {},
   "outputs": [
    {
     "data": {
      "text/plain": [
       "['Wind', 'Fire', 'Water', 'Heart']"
      ]
     },
     "execution_count": 28,
     "metadata": {},
     "output_type": "execute_result"
    }
   ],
   "source": [
    "# Return everything up until the last item\n",
    "elements[:-1]"
   ]
  },
  {
   "cell_type": "markdown",
   "id": "3d289571-1f63-4351-bfa9-3d1a81eac572",
   "metadata": {},
   "source": [
    "It may be useful as well to grab an interval of items. We can specify this by adding another `:` delimeter to specify the interval."
   ]
  },
  {
   "cell_type": "code",
   "execution_count": 29,
   "id": "57232406-9022-42ce-8a33-354597c6bb2c",
   "metadata": {},
   "outputs": [
    {
     "name": "stdout",
     "output_type": "stream",
     "text": [
      "['Wind', 'Water', 'Earth']\n",
      "['Wind', 'Earth']\n"
     ]
    }
   ],
   "source": [
    "# Return every nth item\n",
    "n = 2\n",
    "print(elements[::n])\n",
    "\n",
    "n = 4\n",
    "print(elements[::n])"
   ]
  },
  {
   "cell_type": "code",
   "execution_count": 30,
   "id": "d2a5c0e6-6f90-4c94-a2ea-1fc231e39cbb",
   "metadata": {},
   "outputs": [
    {
     "data": {
      "text/plain": [
       "['Fire', 'Heart']"
      ]
     },
     "execution_count": 30,
     "metadata": {},
     "output_type": "execute_result"
    }
   ],
   "source": [
    "# Return every 2nd item starting from index 1\n",
    "elements[1::2]"
   ]
  },
  {
   "cell_type": "markdown",
   "id": "abd78819-0258-4b81-bc09-d0d0e42ee516",
   "metadata": {},
   "source": [
    "It should also be noted that referencing an index that doesn't exist will throw an error. "
   ]
  },
  {
   "cell_type": "code",
   "execution_count": 31,
   "id": "a6ce09a7-d245-46e8-a14a-18c3803c96bc",
   "metadata": {},
   "outputs": [
    {
     "name": "stdout",
     "output_type": "stream",
     "text": [
      "No such index exists\n"
     ]
    }
   ],
   "source": [
    "try:\n",
    "    elements[99]\n",
    "except:\n",
    "    print('No such index exists')"
   ]
  },
  {
   "cell_type": "markdown",
   "id": "8d11afac-dea9-4840-b7d2-e7796e0da8d6",
   "metadata": {},
   "source": [
    "## List Comprehension\n",
    "\n",
    "List comprehension allows you to quickly create or transform a list using a single line of code. The basic syntax looks like `[expression(item) for item in iterable]`"
   ]
  },
  {
   "cell_type": "code",
   "execution_count": 32,
   "id": "53141ba3-4bc0-429e-826a-70e3af879674",
   "metadata": {},
   "outputs": [
    {
     "data": {
      "text/plain": [
       "[0, 1, 4, 9, 16, 25, 36, 49, 64, 81, 100]"
      ]
     },
     "execution_count": 32,
     "metadata": {},
     "output_type": "execute_result"
    }
   ],
   "source": [
    "squares = [x**2 for x in range(11)]\n",
    "squares"
   ]
  },
  {
   "cell_type": "markdown",
   "id": "348a9189-6668-4994-be26-a28323846efa",
   "metadata": {},
   "source": [
    "You can use existing lists to create new ones through list comprehension."
   ]
  },
  {
   "cell_type": "code",
   "execution_count": 33,
   "id": "2a0b8886-9b43-47b7-b69c-a85f01567c03",
   "metadata": {},
   "outputs": [
    {
     "data": {
      "text/plain": [
       "[4, 4, 5, 5, 5]"
      ]
     },
     "execution_count": 33,
     "metadata": {},
     "output_type": "execute_result"
    }
   ],
   "source": [
    "elements_length = [len(e) for e in elements]\n",
    "elements_length"
   ]
  },
  {
   "cell_type": "markdown",
   "id": "68e41483-1dd1-4f42-a49a-5d1b5e042310",
   "metadata": {},
   "source": [
    "We can filter an exisitng list within our list comprehension statement as well."
   ]
  },
  {
   "cell_type": "code",
   "execution_count": 34,
   "id": "75a69372-6c4e-4682-9f24-a1802323d3ec",
   "metadata": {},
   "outputs": [
    {
     "data": {
      "text/plain": [
       "['Water', 'Heart', 'Earth']"
      ]
     },
     "execution_count": 34,
     "metadata": {},
     "output_type": "execute_result"
    }
   ],
   "source": [
    "elements_filtered = [e for e in elements if 'a' in e]\n",
    "elements_filtered"
   ]
  },
  {
   "cell_type": "markdown",
   "id": "e1f26c06-b79c-446a-8c26-01282ab32384",
   "metadata": {},
   "source": [
    "We can nest list comprehensions by including another list comprehension within the `expression` component"
   ]
  },
  {
   "cell_type": "code",
   "execution_count": 35,
   "id": "1ef886cc-3f5e-4ff8-a549-e3f2a3b80ba6",
   "metadata": {},
   "outputs": [
    {
     "data": {
      "text/plain": [
       "[[0, 1, 2, 3, 4],\n",
       " [0, 1, 2, 3, 4],\n",
       " [0, 1, 2, 3, 4],\n",
       " [0, 1, 2, 3, 4],\n",
       " [0, 1, 2, 3, 4]]"
      ]
     },
     "execution_count": 35,
     "metadata": {},
     "output_type": "execute_result"
    }
   ],
   "source": [
    "matrix = [[j for j in range(5)] for i in range(5)]\n",
    "matrix"
   ]
  },
  {
   "cell_type": "code",
   "execution_count": 36,
   "id": "213b1c38-ccca-4d82-bd53-1711a6ba9873",
   "metadata": {},
   "outputs": [
    {
     "data": {
      "text/plain": [
       "[0, 2, 4, 0, 2, 4, 0, 2, 4, 0, 2, 4, 0, 2, 4]"
      ]
     },
     "execution_count": 36,
     "metadata": {},
     "output_type": "execute_result"
    }
   ],
   "source": [
    "# Return only even numbers from matrix\n",
    "matrix_filtered = [item for row in matrix for item in row if item % 2 == 0]\n",
    "matrix_filtered"
   ]
  }
 ],
 "metadata": {
  "kernelspec": {
   "display_name": "Python 3 (ipykernel)",
   "language": "python",
   "name": "python3"
  },
  "language_info": {
   "codemirror_mode": {
    "name": "ipython",
    "version": 3
   },
   "file_extension": ".py",
   "mimetype": "text/x-python",
   "name": "python",
   "nbconvert_exporter": "python",
   "pygments_lexer": "ipython3",
   "version": "3.9.18"
  }
 },
 "nbformat": 4,
 "nbformat_minor": 5
}
