{
 "cells": [
  {
   "cell_type": "markdown",
   "id": "ff693716-ecc5-44c2-a3c0-e4c324f81718",
   "metadata": {},
   "source": [
    "# Mathematical Operations and Permutations"
   ]
  },
  {
   "cell_type": "markdown",
   "id": "bbdf691c-e53d-4f99-b220-328f86e32fb1",
   "metadata": {},
   "source": [
    "## Overview\n",
    "\n",
    "In Python we can perform simple and complex calcluations as well as compare objects with comparison operators. These operators allow us to compare variables and output a Boolean value (True or False)."
   ]
  },
  {
   "cell_type": "markdown",
   "id": "852619e3-7fdc-4dbb-99da-1bcf7298e901",
   "metadata": {},
   "source": [
    "## Comparison Operators\n",
    "\n",
    "Assume x=2 and y=5"
   ]
  },
  {
   "cell_type": "markdown",
   "id": "32369ec7-d3d7-42ab-9895-f069c952c1cb",
   "metadata": {},
   "source": [
    "| __Operator__ | __Description__ | __Example__ |\n",
    "|-|-|-|\n",
    "| == | If values of two operands are equal, then the condition is true. | (x == y) evaluates to `False` |\n",
    "| != | If values of two operands are not equal, then condition is true. | (a != b) evaulates to `True` |\n",
    "| > | If value of left operand is greater than value of right operand, then condition is true. | (x > y) evaluates to `False` |\n",
    "| < | If value of left operand is less than value of right operand, then condition is true. | (x < y) evaluates to `True` |\n",
    "| >= | If value of left operand is greater than or equal to value of right operand, then condition is true. | (x >= y) evaluates to `False` |\n",
    "| <= | If value of left operand is less than or equal to value of right operand, then condition is true. | (x <= y) evaluates to `True` |"
   ]
  },
  {
   "cell_type": "markdown",
   "id": "3c00c966-84df-4e85-b0ce-3ff31812e72e",
   "metadata": {},
   "source": [
    "## Basic Arithmetic\n",
    "\n",
    "To perform basic arithmetic:"
   ]
  },
  {
   "cell_type": "code",
   "execution_count": 1,
   "id": "6b413633-b801-4388-bdbf-0403dfe4e378",
   "metadata": {},
   "outputs": [],
   "source": [
    "sum = 7 + 3 # Addition\n",
    "difference = 7 - 3 # Subtraction\n",
    "product = 7 * 3 # Multiplication\n",
    "quotient = 7 / 3 # Division\n",
    "remainder = 7 % 3 # Modulus\n",
    "power = 7 ** 3 # Exponentiation"
   ]
  },
  {
   "cell_type": "markdown",
   "id": "c00c844e-7ee4-43b2-a773-d4c99181e82c",
   "metadata": {},
   "source": [
    "## Complex Numbers\n",
    "\n",
    "We can work with complex numbers in Python using the `complex()` function."
   ]
  },
  {
   "cell_type": "code",
   "execution_count": 2,
   "id": "5b8583f4-3724-479e-85fc-96105c0e6683",
   "metadata": {},
   "outputs": [
    {
     "data": {
      "text/plain": [
       "(2+3j)"
      ]
     },
     "execution_count": 2,
     "metadata": {},
     "output_type": "execute_result"
    }
   ],
   "source": [
    "# Create the complex number, 2 + 3j\n",
    "z = complex(2, 3)\n",
    "z"
   ]
  },
  {
   "cell_type": "markdown",
   "id": "78f07c8b-9df5-419b-a3dd-bc467329ce03",
   "metadata": {},
   "source": [
    "Retrive The real and imaginary parts using `real` and `imag` attributes."
   ]
  },
  {
   "cell_type": "code",
   "execution_count": 3,
   "id": "79da96a0-83f7-4ee5-8bc2-ed1f4e0aba3c",
   "metadata": {},
   "outputs": [
    {
     "data": {
      "text/plain": [
       "2.0"
      ]
     },
     "execution_count": 3,
     "metadata": {},
     "output_type": "execute_result"
    }
   ],
   "source": [
    "# Retrieve the real part\n",
    "real = z.real\n",
    "real"
   ]
  },
  {
   "cell_type": "code",
   "execution_count": 4,
   "id": "6a8d7b33-04b7-461e-a3bc-a49b3982d84e",
   "metadata": {},
   "outputs": [
    {
     "data": {
      "text/plain": [
       "3.0"
      ]
     },
     "execution_count": 4,
     "metadata": {},
     "output_type": "execute_result"
    }
   ],
   "source": [
    "# Retrieve imaginary part\n",
    "imaginary = z.imag\n",
    "imaginary"
   ]
  },
  {
   "cell_type": "markdown",
   "id": "38e261fe-8d42-4c72-84cc-14f50e699c0e",
   "metadata": {},
   "source": [
    "We can also conjugate."
   ]
  },
  {
   "cell_type": "code",
   "execution_count": 5,
   "id": "978955eb-f1e8-4a83-a417-5010e054b8dd",
   "metadata": {},
   "outputs": [
    {
     "data": {
      "text/plain": [
       "(2-3j)"
      ]
     },
     "execution_count": 5,
     "metadata": {},
     "output_type": "execute_result"
    }
   ],
   "source": [
    "conjugate = z.conjugate()\n",
    "conjugate"
   ]
  },
  {
   "cell_type": "markdown",
   "id": "f18c4670-c624-4b49-91ca-6c6f1f900d3e",
   "metadata": {},
   "source": [
    "## Mathematical Functions\n",
    "\n",
    "If we import the `math` module we can perform common functions."
   ]
  },
  {
   "cell_type": "code",
   "execution_count": 6,
   "id": "05f35860-a39c-478b-a0e3-bc1c357311d1",
   "metadata": {},
   "outputs": [
    {
     "name": "stdout",
     "output_type": "stream",
     "text": [
      "35.12833614050059 3.091315159697223 1.0\n"
     ]
    }
   ],
   "source": [
    "import math\n",
    "root = math.sqrt(1234)\n",
    "log = math.log(1234, 10) # Logarithm base 10\n",
    "sine = math.sin(math.pi / 2)\n",
    "\n",
    "print(root, log, sine)"
   ]
  },
  {
   "cell_type": "markdown",
   "id": "228cc4a0-d1a3-4afc-996a-223de8c0034c",
   "metadata": {},
   "source": [
    "## Statistical Functions\n",
    "\n",
    "To perform basic statistical computations we can use the `statistics` module. This module is not intended to replace or compete with such libraries as __NumPy__ or __SciPy__."
   ]
  },
  {
   "cell_type": "markdown",
   "id": "dae891a3-0002-4b8b-b399-7595d39e44ca",
   "metadata": {},
   "source": [
    "### Measures of Central Tendency\n",
    "\n",
    "Some common functions to calculate central tendency from a given population or sample.\n",
    "\n",
    "| Function | Description |\n",
    "| :--- | :--- |\n",
    "| `mean()` | Arithmetic mean, or average, of the data |\n",
    "| `median()` | Median (middle value) of the data |\n",
    "| `mode()` | Single mode (most common value) of the data |\n",
    "| `quantiles()` | Divide data into intervals with equal distribution/probability |"
   ]
  },
  {
   "cell_type": "code",
   "execution_count": 22,
   "id": "acd43873-1fd6-40e0-b8f2-eacb4d105872",
   "metadata": {},
   "outputs": [
    {
     "name": "stdout",
     "output_type": "stream",
     "text": [
      "Mean of x: 9\n",
      "Mean of y: 7.5\n"
     ]
    }
   ],
   "source": [
    "import statistics\n",
    "x = [4, 5, 6, 7, 8, 9, 10, 11, 12, 13, 14]\n",
    "y = [4.26, 5.68, 7.24, 4.82, 6.95, 8.81, 8.04, 8.33, 10.84, 7.58, 9.96]\n",
    "mean_x = statistics.mean(x)\n",
    "mean_y = round(statistics.mean(y), 2)\n",
    "\n",
    "print(f'Mean of x: {mean_x}')\n",
    "print(f'Mean of y: {mean_y}')"
   ]
  },
  {
   "cell_type": "markdown",
   "id": "9e499f0c-529b-49ce-aa24-fb6d9f68bd4c",
   "metadata": {},
   "source": [
    "### Measures of Spread\n",
    "\n",
    "These functions measure how much the population or sample tends to deviate from the center or average values.\n",
    "\n",
    "| Function | Description |\n",
    "| :--- | :--- |\n",
    "| `pstdev()` | Population standard deviation of the data |\n",
    "| `stdev()` | Sample standard deviation of the data |\n",
    "| `variance()` | Sample variance of the data |"
   ]
  },
  {
   "cell_type": "code",
   "execution_count": 16,
   "id": "bcccb8e8-da17-4363-82e2-3a2ed5b704d7",
   "metadata": {},
   "outputs": [
    {
     "name": "stdout",
     "output_type": "stream",
     "text": [
      "Std Dev: 3.32\n",
      "Variance: 11\n"
     ]
    }
   ],
   "source": [
    "import statistics\n",
    "stdev = statistics.stdev(x)\n",
    "var = statistics.variance(x)\n",
    "\n",
    "print(f'Std Dev: {round(stdev, 2)}')\n",
    "print(f'Variance: {var}')"
   ]
  },
  {
   "cell_type": "markdown",
   "id": "47737b97-ad2f-4420-b3e7-b9f7324c7977",
   "metadata": {},
   "source": [
    "### Statistical Relationship\n",
    "\n",
    "| Function | Description |\n",
    "| :--- | :--- |\n",
    "| `covariance()` | Sample covariance for two variables |\n",
    "| `correlation()` | Pearson and Spearman's correlation coefficients |\n",
    "| `linear_regression()` | Slope and intercept for simple linear regression |"
   ]
  },
  {
   "cell_type": "code",
   "execution_count": 13,
   "id": "396a7d02-9177-4571-ad04-b6bc2e51da94",
   "metadata": {},
   "outputs": [
    {
     "name": "stdout",
     "output_type": "stream",
     "text": [
      "Covariance: 5.5\n",
      "Correlation: 0.816\n",
      "Slope & Intercept: y = 0.5*x + 3.0\n"
     ]
    }
   ],
   "source": [
    "import statistics\n",
    "x = [4, 5, 6, 7, 8, 9, 10, 11, 12, 13, 14]\n",
    "y = [4.26, 5.68, 7.24, 4.82, 6.95, 8.81, 8.04, 8.33, 10.84, 7.58, 9.96]\n",
    "\n",
    "covar = statistics.covariance(x, y)\n",
    "corr = statistics.correlation(x, y)\n",
    "slope, intercept = statistics.linear_regression(x, y)\n",
    "\n",
    "print(f'Covariance: {round(covar, 2)}')\n",
    "print(f'Correlation: {round(corr, 3)}')\n",
    "print(f'Slope & Intercept: y = {round(slope, 2)}*x + {round(intercept, 2)}')"
   ]
  },
  {
   "cell_type": "markdown",
   "id": "8d5cc1b4-c96e-4ae2-af6e-cc96ef2ff197",
   "metadata": {},
   "source": [
    "## Permutations\n",
    "\n",
    "We can easily generate permutations from a given set using the `permutations` module from `itertools`. The syntax is `permutations(iterable, r=None)`, where _r_ is the number of elements to be included. Elements are treated as unique based on their position, not value."
   ]
  },
  {
   "cell_type": "code",
   "execution_count": 9,
   "id": "976426c5-96a9-4ed0-8853-3576d0065525",
   "metadata": {},
   "outputs": [
    {
     "name": "stdout",
     "output_type": "stream",
     "text": [
      "(1, 2, 3)\n",
      "(1, 3, 2)\n",
      "(2, 1, 3)\n",
      "(2, 3, 1)\n",
      "(3, 1, 2)\n",
      "(3, 2, 1)\n"
     ]
    }
   ],
   "source": [
    "from itertools import permutations\n",
    "outcomes = permutations([1,2,3]) # Generate all permutations of the list\n",
    "for outcome in outcomes:\n",
    "    print(outcome)"
   ]
  },
  {
   "cell_type": "markdown",
   "id": "a0c721b4-4a54-41f3-9dca-b976bd18b31a",
   "metadata": {},
   "source": [
    "## Combinations\n",
    "\n",
    "We can easily generate combinations as well. The syntax is `combinations(iterable, r)`, where _r_ is the number of elements to be included. Elements are treated unique based on their position, not value."
   ]
  },
  {
   "cell_type": "code",
   "execution_count": 10,
   "id": "358c1b9b-f32e-4475-954f-e97127bd1414",
   "metadata": {},
   "outputs": [
    {
     "name": "stdout",
     "output_type": "stream",
     "text": [
      "(3, 4)\n",
      "(3, 5)\n",
      "(3, 3)\n",
      "(4, 5)\n",
      "(4, 3)\n",
      "(5, 3)\n"
     ]
    }
   ],
   "source": [
    "from itertools import combinations\n",
    "combos = combinations([3,4,5,3],2) # Return all possibilites with 2 elements\n",
    "for combo in combos:\n",
    "    print(combo)"
   ]
  },
  {
   "cell_type": "markdown",
   "id": "be57b40b-867d-42a7-9896-ce3af76345d7",
   "metadata": {},
   "source": [
    "## Fractions\n",
    "\n",
    "It is possible to work with fractions in Python. The object hat is returned is a _Fraction_ type."
   ]
  },
  {
   "cell_type": "code",
   "execution_count": 11,
   "id": "68d01b31-9f23-434c-a9e5-4e49d8cd2816",
   "metadata": {},
   "outputs": [
    {
     "name": "stdout",
     "output_type": "stream",
     "text": [
      "2/3\n",
      "<class 'fractions.Fraction'>\n"
     ]
    },
    {
     "data": {
      "text/plain": [
       "Fraction(2, 3)"
      ]
     },
     "execution_count": 11,
     "metadata": {},
     "output_type": "execute_result"
    }
   ],
   "source": [
    "from fractions import Fraction\n",
    "frac = Fraction(2,3)\n",
    "print(frac)\n",
    "print(type(frac))\n",
    "frac"
   ]
  },
  {
   "cell_type": "markdown",
   "id": "15de2fbc-f747-48cb-a492-466ae509ba58",
   "metadata": {},
   "source": [
    "You can perform mathematical operations on it."
   ]
  },
  {
   "cell_type": "code",
   "execution_count": 12,
   "id": "e57e4ab3-ad2e-4dd5-bfed-0d153cb2fb9a",
   "metadata": {},
   "outputs": [
    {
     "name": "stdout",
     "output_type": "stream",
     "text": [
      "-1/3\n",
      "8/3\n",
      "2\n",
      "1/6\n"
     ]
    }
   ],
   "source": [
    "print(frac - 1)\n",
    "print(frac + 2)\n",
    "print(frac * 3)\n",
    "print(frac / 4)"
   ]
  },
  {
   "cell_type": "markdown",
   "id": "376cef68-dc7a-46a4-918b-a3a3e0ee4824",
   "metadata": {},
   "source": [
    "## Trigonometric Functions\n",
    "\n",
    "We can also do our trignometry homework in Python."
   ]
  },
  {
   "cell_type": "code",
   "execution_count": 13,
   "id": "12fa20db-58f9-4c88-8a66-a9954537e7d8",
   "metadata": {},
   "outputs": [
    {
     "name": "stdout",
     "output_type": "stream",
     "text": [
      "60 deg in radians is 1.0472. The cosine of that angle is 0.5\n"
     ]
    }
   ],
   "source": [
    "import math\n",
    "angle_rad = math.radians(60) # Convert 60 deg to radians\n",
    "angle_deg = math.degrees(angle_rad) # Convert back\n",
    "cosine = math.cos(angle_rad)\n",
    "\n",
    "print(f'{round(angle_deg)} deg in radians is {round(angle_rad,4)}. The cosine of that angle is {round(cosine,2)}')"
   ]
  },
  {
   "cell_type": "markdown",
   "id": "82cbc723-9c33-4970-93ff-270a12a08abf",
   "metadata": {},
   "source": [
    "## Handling Infinity and NaN\n",
    "\n",
    "Sometimes we get errors or need to work with infinity. We can utilize the `inf` and `nan` attributes."
   ]
  },
  {
   "cell_type": "code",
   "execution_count": 14,
   "id": "84bb69cb-a6cc-4bd1-a95c-67f6cfcd546e",
   "metadata": {},
   "outputs": [
    {
     "name": "stdout",
     "output_type": "stream",
     "text": [
      "inf is different than nan\n"
     ]
    }
   ],
   "source": [
    "import math\n",
    "infinity = math.inf\n",
    "nan = math.nan\n",
    "\n",
    "print(f'{infinity} is different than {nan}')"
   ]
  }
 ],
 "metadata": {
  "kernelspec": {
   "display_name": "Python 3 (ipykernel)",
   "language": "python",
   "name": "python3"
  },
  "language_info": {
   "codemirror_mode": {
    "name": "ipython",
    "version": 3
   },
   "file_extension": ".py",
   "mimetype": "text/x-python",
   "name": "python",
   "nbconvert_exporter": "python",
   "pygments_lexer": "ipython3",
   "version": "3.11.8"
  }
 },
 "nbformat": 4,
 "nbformat_minor": 5
}
