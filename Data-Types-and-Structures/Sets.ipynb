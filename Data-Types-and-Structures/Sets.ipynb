{
 "cells": [
  {
   "cell_type": "markdown",
   "id": "10668fdd-8d3b-4866-9149-b68971c6c04d",
   "metadata": {},
   "source": [
    "# Sets"
   ]
  },
  {
   "cell_type": "markdown",
   "id": "b23ac99a-c9e1-4356-8794-4ac0dab98dd2",
   "metadata": {},
   "source": [
    "## Overview\n",
    "\n",
    "Sets are used to store multiple items in a single variable. Sets are an unordered collection of unique elements. Set _items_ are immutable, but you can remove and add new items.\n",
    "\n",
    "Sets are one of 4 built-in data types in Python used to store collections of data, the other 3 are Tuple, List, and Dictionary, all with different qualities and usage."
   ]
  },
  {
   "cell_type": "markdown",
   "id": "812063a4-68bb-434b-8470-a3eca7038cf9",
   "metadata": {},
   "source": [
    "## Create a Set\n",
    "\n",
    "We can construct them by using the `set()` function or using `{}` braces."
   ]
  },
  {
   "cell_type": "code",
   "execution_count": 1,
   "id": "04ffb07f-c52c-43f8-983c-d63b29f51fb8",
   "metadata": {},
   "outputs": [
    {
     "name": "stdout",
     "output_type": "stream",
     "text": [
      "{'Jamie', 'Riley', 'Levi', 'Noah'}\n",
      "{16, 1, 4, 9}\n"
     ]
    }
   ],
   "source": [
    "boy_names = {'Levi', 'Riley', 'Jamie', 'Noah'}\n",
    "squares = set([1, 4, 9, 16, 4])\n",
    "print(boy_names)\n",
    "print(squares)"
   ]
  },
  {
   "cell_type": "markdown",
   "id": "1730832b-d357-498e-8f02-b46f0335bccb",
   "metadata": {},
   "source": [
    "Note the curly brackets. This does not indicate a dictionary, although you can draw analogies as a set being a dictionary with only keys."
   ]
  },
  {
   "cell_type": "markdown",
   "id": "cf5d3cf0-09a1-4eb0-8217-153fdadeda30",
   "metadata": {},
   "source": [
    "## Access Items\n",
    "\n",
    "You cannot access items in a set by referring to an index like you would a list or tuple. You can loop through the set though or use boolean statements to check if an item exists in a set."
   ]
  },
  {
   "cell_type": "code",
   "execution_count": 2,
   "id": "3f48402b-0a1b-460c-bcb4-c6cc626aa294",
   "metadata": {},
   "outputs": [
    {
     "name": "stdout",
     "output_type": "stream",
     "text": [
      "\"set\" object is not subscriptable\n"
     ]
    }
   ],
   "source": [
    "try:\n",
    "    squares[0]\n",
    "except TypeError:\n",
    "    print('\"set\" object is not subscriptable')"
   ]
  },
  {
   "cell_type": "code",
   "execution_count": 3,
   "id": "a230f157-c8d5-41d8-bdfb-a3d1bfb45b67",
   "metadata": {},
   "outputs": [
    {
     "name": "stdout",
     "output_type": "stream",
     "text": [
      "Jamie\n",
      "Riley\n",
      "Levi\n",
      "Noah\n"
     ]
    }
   ],
   "source": [
    "for name in boy_names:\n",
    "    print(name)"
   ]
  },
  {
   "cell_type": "code",
   "execution_count": 4,
   "id": "388b31fd-20a1-41c2-b9b4-2a8a9cea24ca",
   "metadata": {},
   "outputs": [
    {
     "name": "stdout",
     "output_type": "stream",
     "text": [
      "Is 9 in squares: True\n",
      "Is 4 missing from squares: False\n"
     ]
    }
   ],
   "source": [
    "print(f'Is 9 in squares: {9 in squares}')\n",
    "print(f'Is 4 missing from squares: {4 not in squares}')"
   ]
  },
  {
   "cell_type": "markdown",
   "id": "0fe64558-3ec2-4e27-b14f-e8fe63882369",
   "metadata": {},
   "source": [
    "## Basic List Methods\n",
    "\n",
    "There are a few methods we can call on a dictionary. Let's get a quick introduction to a few of them."
   ]
  },
  {
   "cell_type": "markdown",
   "id": "5a07f4c2-3ed9-41ff-91a0-770844931f2c",
   "metadata": {},
   "source": [
    "### Add\n",
    "\n",
    "Use `.add()` method to add an item to the set. If the item already exists, then the method will do nothing."
   ]
  },
  {
   "cell_type": "code",
   "execution_count": 5,
   "id": "71bf0c9e-c717-4a3c-87d7-f8651dcdf3f2",
   "metadata": {},
   "outputs": [
    {
     "data": {
      "text/plain": [
       "{'Charles', 'Jamie', 'Levi', 'Noah', 'Riley'}"
      ]
     },
     "execution_count": 5,
     "metadata": {},
     "output_type": "execute_result"
    }
   ],
   "source": [
    "boy_names.add('Charles')\n",
    "boy_names"
   ]
  },
  {
   "cell_type": "code",
   "execution_count": 6,
   "id": "3a7705f5-c627-4521-b30a-a521de8f2839",
   "metadata": {},
   "outputs": [
    {
     "data": {
      "text/plain": [
       "{'Charles', 'Jamie', 'Levi', 'Noah', 'Riley'}"
      ]
     },
     "execution_count": 6,
     "metadata": {},
     "output_type": "execute_result"
    }
   ],
   "source": [
    "boy_names.add('Levi') # Will not create a duplicate item.\n",
    "boy_names"
   ]
  },
  {
   "cell_type": "markdown",
   "id": "f014b77c-0064-4e29-b3b9-b813ebd5602e",
   "metadata": {},
   "source": [
    "When dealing with strings, the items are case-sensitive."
   ]
  },
  {
   "cell_type": "markdown",
   "id": "6540c0d1-6898-4423-85f1-3e43e4e26074",
   "metadata": {},
   "source": [
    "### Difference\n",
    "\n",
    "Use the `.difference()` method to return a set that contains only items that are in the first set and not in the second set."
   ]
  },
  {
   "cell_type": "code",
   "execution_count": 7,
   "id": "55dac79c-ebb4-485a-81c6-eb2524f4ed9f",
   "metadata": {},
   "outputs": [],
   "source": [
    "girl_names = {'Emma', 'Sarah', 'Riley', 'Sophia', 'Jamie'}"
   ]
  },
  {
   "cell_type": "code",
   "execution_count": 8,
   "id": "fa868ee5-f20c-4dba-b37e-e3679ff80a0b",
   "metadata": {},
   "outputs": [
    {
     "data": {
      "text/plain": [
       "{'Charles', 'Levi', 'Noah'}"
      ]
     },
     "execution_count": 8,
     "metadata": {},
     "output_type": "execute_result"
    }
   ],
   "source": [
    "boy_names.difference(girl_names)"
   ]
  },
  {
   "cell_type": "markdown",
   "id": "0c2afb42-1f8c-4a3d-aae0-09e43de92613",
   "metadata": {},
   "source": [
    "Reversing the sets gives a different output."
   ]
  },
  {
   "cell_type": "code",
   "execution_count": 9,
   "id": "f22f2a89-3fbf-4334-bbaf-4101961cf3e9",
   "metadata": {},
   "outputs": [
    {
     "data": {
      "text/plain": [
       "{'Emma', 'Sarah', 'Sophia'}"
      ]
     },
     "execution_count": 9,
     "metadata": {},
     "output_type": "execute_result"
    }
   ],
   "source": [
    "girl_names.difference(boy_names)"
   ]
  },
  {
   "cell_type": "markdown",
   "id": "13220a6a-0b73-4ff5-a32d-e08d88e0bf76",
   "metadata": {},
   "source": [
    "### Difference Update\n",
    "\n",
    "The `.difference_update()` method is slightly different in that it does not return a new set, rather it _removes_ the items that exist in both sets from the original set (left most operand.)"
   ]
  },
  {
   "cell_type": "code",
   "execution_count": 10,
   "id": "c100e18f-d67a-4e6e-8092-79c14009aa94",
   "metadata": {},
   "outputs": [
    {
     "name": "stdout",
     "output_type": "stream",
     "text": [
      "Original boy list: {'Levi', 'Charles', 'Riley', 'Jamie', 'Noah'}\n",
      "Original girl list: {'Riley', 'Emma', 'Jamie', 'Sophia', 'Sarah'}\n",
      "Updated boy list: {'Levi', 'Charles', 'Noah'}\n"
     ]
    }
   ],
   "source": [
    "print(f'Original boy list: {boy_names}')\n",
    "print(f'Original girl list: {girl_names}')\n",
    "\n",
    "boy_names.difference_update(girl_names)\n",
    "print(f'Updated boy list: {boy_names}')"
   ]
  },
  {
   "cell_type": "markdown",
   "id": "b370927e-0091-46c8-9ec1-a9b391f3415b",
   "metadata": {},
   "source": [
    "### Discard\n",
    "\n",
    "The `.discard()` method removes the specified item from the set. This method is different from the `.remove()` method because the `.remove()` method will raise an error if the specified item does not exist, and the `.discard()` method will not."
   ]
  },
  {
   "cell_type": "code",
   "execution_count": 11,
   "id": "b146c650-7670-481d-b017-a14d8b0f917f",
   "metadata": {},
   "outputs": [
    {
     "name": "stdout",
     "output_type": "stream",
     "text": [
      "{'Riley', 'Jamie', 'Sophia', 'Sarah'}\n",
      "{'Riley', 'Jamie', 'Sophia', 'Sarah'}\n"
     ]
    }
   ],
   "source": [
    "girl_names.discard('Emma')\n",
    "print(girl_names)\n",
    "girl_names.discard('Haley')\n",
    "print(girl_names)"
   ]
  },
  {
   "cell_type": "markdown",
   "id": "40d9e0cc-18f5-45c1-be1a-987d336d3cd0",
   "metadata": {},
   "source": [
    "### Intersection\n",
    "\n",
    "Use the `.intersection()` method to return a set that contains the same items between two or more sets."
   ]
  },
  {
   "cell_type": "code",
   "execution_count": 12,
   "id": "824d6904-52b5-4b28-8633-05c8dd68e36a",
   "metadata": {},
   "outputs": [
    {
     "data": {
      "text/plain": [
       "{'Jamie', 'Riley'}"
      ]
     },
     "execution_count": 12,
     "metadata": {},
     "output_type": "execute_result"
    }
   ],
   "source": [
    "boy_names = {'Levi', 'Riley', 'Jamie', 'Noah'} # reset boy_names set\n",
    "gender_neutral_names = boy_names.intersection(girl_names)\n",
    "gender_neutral_names"
   ]
  },
  {
   "cell_type": "markdown",
   "id": "0f082f2d-01b5-4335-b0bf-879cd3d9c28f",
   "metadata": {},
   "source": [
    "### Union\n",
    "\n",
    "The `.union()` method returns a set that contains items from both the original set and any other sets specified."
   ]
  },
  {
   "cell_type": "code",
   "execution_count": 13,
   "id": "52b0d73f-fb1e-420e-a76d-106daa597696",
   "metadata": {},
   "outputs": [
    {
     "data": {
      "text/plain": [
       "{'Jamie', 'Levi', 'Noah', 'Riley', 'Sarah', 'Sophia'}"
      ]
     },
     "execution_count": 13,
     "metadata": {},
     "output_type": "execute_result"
    }
   ],
   "source": [
    "names = boy_names.union(girl_names)\n",
    "names"
   ]
  },
  {
   "cell_type": "markdown",
   "id": "9e0175fc-2386-441f-b02e-7b97ad478f67",
   "metadata": {},
   "source": [
    "### Other Methods\n",
    "\n",
    "Here is a table containing other methods and their uses. Assume `x = {2,3,4}` and `y = {1,2,3,4,5,6}`.\n",
    "\n",
    "| **Method** | **Description** | **Example** |\n",
    "| --- | --- | ---: |\n",
    "| `.copy()` | Returns a copy of the original set. |  `x.copy(y)` |\n",
    "| `.issubset()` | eturns True if all items in the set exists in the specified set, otherwise it returns False. | `x.issubset(y)` |\n",
    "| `.issuperset()` | Returns True if all items in the specified set exists in the original set, otherwise it returns False. | `x.issuperset(y)` |\n",
    "| `.pop()` | Removes and returns a random item from the set. | `z = x.pop()` |\n",
    "| `.symmetric_difference()` | Returns a set that contains all items from both set, but not the items that are present in both sets. | `x.symmetric_difference(y)` |"
   ]
  },
  {
   "cell_type": "code",
   "execution_count": null,
   "id": "cb57a9fd-5cfe-46b4-a445-08c0bfe5a010",
   "metadata": {},
   "outputs": [],
   "source": []
  }
 ],
 "metadata": {
  "kernelspec": {
   "display_name": "Python 3 (ipykernel)",
   "language": "python",
   "name": "python3"
  },
  "language_info": {
   "codemirror_mode": {
    "name": "ipython",
    "version": 3
   },
   "file_extension": ".py",
   "mimetype": "text/x-python",
   "name": "python",
   "nbconvert_exporter": "python",
   "pygments_lexer": "ipython3",
   "version": "3.9.18"
  }
 },
 "nbformat": 4,
 "nbformat_minor": 5
}
