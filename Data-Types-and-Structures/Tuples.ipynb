{
 "cells": [
  {
   "cell_type": "markdown",
   "id": "c2716c40-1807-4939-a735-83ec77c2d070",
   "metadata": {},
   "source": [
    "# Tuples"
   ]
  },
  {
   "cell_type": "markdown",
   "id": "eeb4cd4f-60ac-4ca0-b18e-b7255e997c5c",
   "metadata": {},
   "source": [
    "## Overview\n",
    "\n",
    "Tuples in Python are ordered collections of items enclosed within parentheses. They are similar to lists but have one key difference: tuples are immutable, meaning their contents cannot be changed after creation. This immutability makes tuples suitable for representing fixed collections of items where the order and the number of items are important. Tuples can contain elements of different data types, and they support indexing and slicing operations just like lists. Common use cases for tuples include representing coordinates, returning multiple values from a function, and serving as keys in dictionaries. Due to their immutability, tuples offer better performance compared to lists in scenarios where the content doesn't need to change.\n",
    "\n",
    "Tuple is one of 4 built-in data types in Python used to store collections of data, the other 3 are List, Set, and Dictionary, all with different qualities and usage."
   ]
  },
  {
   "cell_type": "markdown",
   "id": "c78602af-7ab6-48dd-be56-db4f45acc72d",
   "metadata": {},
   "source": [
    "## Create a Tuple\n",
    "\n",
    "Let's start by constructing some tuples. We can create empty tuples..."
   ]
  },
  {
   "cell_type": "code",
   "execution_count": 1,
   "id": "985dd880-cc3b-47d4-88ad-eb162de01e27",
   "metadata": {},
   "outputs": [],
   "source": [
    "empty_tuple = ()"
   ]
  },
  {
   "cell_type": "markdown",
   "id": "cc9a56a4-571f-426c-b253-c61b496a18e5",
   "metadata": {},
   "source": [
    "...tuples with multiple elements..."
   ]
  },
  {
   "cell_type": "code",
   "execution_count": 2,
   "id": "af973f88-4fa9-40d0-b9e1-96e9d77aab92",
   "metadata": {},
   "outputs": [],
   "source": [
    "days = ('Sunday', 'Monday', 'Tuesday', 'Wednesday', 'Thursday', 'Friday', 'Saturday')"
   ]
  },
  {
   "cell_type": "markdown",
   "id": "8295bbc8-05af-4f57-a6cc-c0f9019b9d0d",
   "metadata": {},
   "source": [
    "...or nested tuples."
   ]
  },
  {
   "cell_type": "code",
   "execution_count": 3,
   "id": "9aadd0d0-20c8-482b-b5c6-6c803d152e5b",
   "metadata": {},
   "outputs": [],
   "source": [
    "nested_tuple = (1, 2, ('a', 'b'), (True, False))"
   ]
  },
  {
   "cell_type": "markdown",
   "id": "23e25a17-d312-4bdf-b547-80043bad2cfd",
   "metadata": {},
   "source": [
    "We can also create tuples with a single element, however we must take some caution. If we simly do the following:"
   ]
  },
  {
   "cell_type": "code",
   "execution_count": 4,
   "id": "08be50ed-28f8-4102-89e7-d774d96cac9e",
   "metadata": {},
   "outputs": [
    {
     "data": {
      "text/plain": [
       "str"
      ]
     },
     "execution_count": 4,
     "metadata": {},
     "output_type": "execute_result"
    }
   ],
   "source": [
    "name = ('John Doe')\n",
    "type(name)"
   ]
  },
  {
   "cell_type": "markdown",
   "id": "4c6d5544-a775-48ce-a05b-f650b1dbc152",
   "metadata": {},
   "source": [
    "we actually get a single item with a data type of that single element. The parenthesis don't automaticaly make them tuples and we need to add a comma after the element to indicate it should be a tuple. This is only for single element and does not apply to empty tuples."
   ]
  },
  {
   "cell_type": "code",
   "execution_count": 5,
   "id": "dc3ac0f5-5ceb-4216-aa26-3f75d8272256",
   "metadata": {},
   "outputs": [
    {
     "data": {
      "text/plain": [
       "tuple"
      ]
     },
     "execution_count": 5,
     "metadata": {},
     "output_type": "execute_result"
    }
   ],
   "source": [
    "type(()) # This is an empty tuple"
   ]
  },
  {
   "cell_type": "code",
   "execution_count": 6,
   "id": "46bd2ab7-858b-4cb1-8fd9-ae01c19a9eae",
   "metadata": {},
   "outputs": [
    {
     "data": {
      "text/plain": [
       "tuple"
      ]
     },
     "execution_count": 6,
     "metadata": {},
     "output_type": "execute_result"
    }
   ],
   "source": [
    "name = ('John Doe', ) # The comma indicates this is a tuple and not a string\n",
    "type(name)"
   ]
  },
  {
   "cell_type": "markdown",
   "id": "6e5fcd6b-1972-41a4-9d77-ddee1cd16ef7",
   "metadata": {},
   "source": [
    "## Immutability\n",
    "\n",
    "Because tuples are immutable, if you try to change the value of an element through assignment you will get a TypeError."
   ]
  },
  {
   "cell_type": "code",
   "execution_count": 7,
   "id": "9b9e6a42-b925-4504-8de8-6e91e0183e65",
   "metadata": {},
   "outputs": [
    {
     "name": "stdout",
     "output_type": "stream",
     "text": [
      "Tuple object does not support item assignment\n"
     ]
    }
   ],
   "source": [
    "try:\n",
    "    days[0] = 'Monday'\n",
    "except TypeError:\n",
    "    print('Tuple object does not support item assignment')"
   ]
  },
  {
   "cell_type": "markdown",
   "id": "4620619a-f193-4447-8a9e-b8071ee44b75",
   "metadata": {},
   "source": [
    "Additionaly, it does not suppport `del` operations on elements."
   ]
  },
  {
   "cell_type": "code",
   "execution_count": 8,
   "id": "149831ce-bbb2-4ac3-8c7c-4874abbfe642",
   "metadata": {},
   "outputs": [
    {
     "name": "stdout",
     "output_type": "stream",
     "text": [
      "Tuple object does not support item deletion\n"
     ]
    }
   ],
   "source": [
    "try:\n",
    "    del name[0]\n",
    "except TypeError:\n",
    "    print('Tuple object does not support item deletion')"
   ]
  },
  {
   "cell_type": "markdown",
   "id": "48af36d7-c946-40a2-a9e9-58b2d9380d7b",
   "metadata": {},
   "source": [
    "Even though Python tuples are immutable, there’s a subtle detail to keep in mind when working with tuples. Tuples can store any type of object, including mutable ones. This means that you can store lists, sets, dictionaries, and other mutable objects in a tuple."
   ]
  },
  {
   "cell_type": "code",
   "execution_count": 9,
   "id": "e46a2d03-fc87-4de1-9514-c2949014e353",
   "metadata": {},
   "outputs": [
    {
     "name": "stdout",
     "output_type": "stream",
     "text": [
      "<class 'tuple'>\n",
      "('Ford', ['Mustang', 'F150', 'Excursion'])\n"
     ]
    }
   ],
   "source": [
    "cars = ('Ford', ['Mustang', 'F150', 'Excursion'])\n",
    "print(type(cars))\n",
    "print(cars)"
   ]
  },
  {
   "cell_type": "markdown",
   "id": "1c1f01de-7553-47cd-8e56-d94a3f6060c9",
   "metadata": {},
   "source": [
    "The first element is immutable, but the second element is a list so you can change their values in place."
   ]
  },
  {
   "cell_type": "code",
   "execution_count": 10,
   "id": "467355a9-f7d9-4425-a366-0b4b785367ca",
   "metadata": {},
   "outputs": [
    {
     "data": {
      "text/plain": [
       "('Ford', ['Mustang', 'F150', 'Expedition'])"
      ]
     },
     "execution_count": 10,
     "metadata": {},
     "output_type": "execute_result"
    }
   ],
   "source": [
    "cars[1][2] = 'Expedition'\n",
    "cars"
   ]
  },
  {
   "cell_type": "markdown",
   "id": "ef70ac70-6995-453b-b76e-cea0178a6a98",
   "metadata": {},
   "source": [
    "## Basic Tuple Methods\n",
    "\n",
    "Tuples in Python tend to be more rigid than lists for two primary reasons: they have a fixed size (meaning once created, the size cannot be changed) and they are immutable (meaning their elements cannot be modified after creation).\n",
    "\n",
    "Tuples, like lists, have built-in methods, but not nearly as many. Here are some common methods tuples."
   ]
  },
  {
   "cell_type": "markdown",
   "id": "4d962242-a647-4f0e-90e1-197b6b845b1a",
   "metadata": {},
   "source": [
    "### Count\n",
    "\n",
    "The `.count()` method returns the number of occurences the specified value appears in the list."
   ]
  },
  {
   "cell_type": "code",
   "execution_count": 11,
   "id": "28bd5b32-cfb6-48e0-bace-803de1abdef9",
   "metadata": {},
   "outputs": [
    {
     "data": {
      "text/plain": [
       "1"
      ]
     },
     "execution_count": 11,
     "metadata": {},
     "output_type": "execute_result"
    }
   ],
   "source": [
    "days.count('Sunday')"
   ]
  },
  {
   "cell_type": "markdown",
   "id": "0324deb7-df85-44b8-a4f9-2a3b3e707ee5",
   "metadata": {},
   "source": [
    "### Index\n",
    "\n",
    "Use `.index()` to enter a value and return the index"
   ]
  },
  {
   "cell_type": "code",
   "execution_count": 12,
   "id": "b369a821-de09-407d-af5b-c51871c9a8b2",
   "metadata": {},
   "outputs": [
    {
     "data": {
      "text/plain": [
       "5"
      ]
     },
     "execution_count": 12,
     "metadata": {},
     "output_type": "execute_result"
    }
   ],
   "source": [
    "days.index('Friday')"
   ]
  },
  {
   "cell_type": "markdown",
   "id": "81c3a9aa-7bb5-4fc6-8900-25caa1e5f5f1",
   "metadata": {},
   "source": [
    "## Index and Slice a Tuple\n",
    "\n",
    "Tuple items are zero-indexed, just like lists. You can access tuple items by referring to the index number, inside square brackets."
   ]
  },
  {
   "cell_type": "markdown",
   "id": "425e9fb6-e6d1-4f58-a227-28e4a99547e7",
   "metadata": {},
   "source": [
    "Grab an item at a specified index."
   ]
  },
  {
   "cell_type": "code",
   "execution_count": 13,
   "id": "6436b3e3-6f08-4388-ba97-f20efb1c4e26",
   "metadata": {},
   "outputs": [
    {
     "data": {
      "text/plain": [
       "'Thursday'"
      ]
     },
     "execution_count": 13,
     "metadata": {},
     "output_type": "execute_result"
    }
   ],
   "source": [
    "# Return the 4th day of the week\n",
    "days[4]"
   ]
  },
  {
   "cell_type": "markdown",
   "id": "da6a3f68-244d-44c3-8ed6-76e0f3c1a820",
   "metadata": {},
   "source": [
    "Grab everything from index 2 and beyond."
   ]
  },
  {
   "cell_type": "code",
   "execution_count": 14,
   "id": "2389e69e-f34e-432a-8fad-234d09fb5db9",
   "metadata": {},
   "outputs": [
    {
     "data": {
      "text/plain": [
       "('Tuesday', 'Wednesday', 'Thursday', 'Friday', 'Saturday')"
      ]
     },
     "execution_count": 14,
     "metadata": {},
     "output_type": "execute_result"
    }
   ],
   "source": [
    "days[2:]"
   ]
  },
  {
   "cell_type": "markdown",
   "id": "37cd2d40-6234-4602-b58e-2e1e3367eda9",
   "metadata": {},
   "source": [
    "Grab everything up to (but not including) index 5."
   ]
  },
  {
   "cell_type": "code",
   "execution_count": 15,
   "id": "77f220a2-84ee-436c-a213-1b83c4b0fa0d",
   "metadata": {},
   "outputs": [
    {
     "data": {
      "text/plain": [
       "('Sunday', 'Monday', 'Tuesday', 'Wednesday', 'Thursday')"
      ]
     },
     "execution_count": 15,
     "metadata": {},
     "output_type": "execute_result"
    }
   ],
   "source": [
    "days[:5]"
   ]
  },
  {
   "cell_type": "markdown",
   "id": "2df406ad-b871-46c3-b5c1-a5cff6832973",
   "metadata": {},
   "source": [
    "Grab items within a range of indices. The first index is inclusive and the last is exclusive."
   ]
  },
  {
   "cell_type": "code",
   "execution_count": 16,
   "id": "46e2360b-e23b-46fc-99bc-6b7b4b643b4f",
   "metadata": {},
   "outputs": [
    {
     "data": {
      "text/plain": [
       "('Monday', 'Tuesday', 'Wednesday', 'Thursday', 'Friday')"
      ]
     },
     "execution_count": 16,
     "metadata": {},
     "output_type": "execute_result"
    }
   ],
   "source": [
    "# Return the weekdays\n",
    "weekdays = days[1:6]\n",
    "weekdays"
   ]
  },
  {
   "cell_type": "markdown",
   "id": "abdc2c99-c5bf-48e2-ba47-4f807930c68a",
   "metadata": {},
   "source": [
    "You can also grab items starting at the end using negative indexing. -1 refers to the last item, -2 refers to the second to last item, etc. You can also grab ranges utilizing negative indexing. This can be useful when you won't know the length of your list or have an increasing/decreasing number of items."
   ]
  },
  {
   "cell_type": "code",
   "execution_count": 17,
   "id": "4cfbb5cd-9bc1-4571-9fae-03f9bb65a987",
   "metadata": {},
   "outputs": [
    {
     "data": {
      "text/plain": [
       "'Saturday'"
      ]
     },
     "execution_count": 17,
     "metadata": {},
     "output_type": "execute_result"
    }
   ],
   "source": [
    "# Return the last day\n",
    "days[-1]"
   ]
  },
  {
   "cell_type": "code",
   "execution_count": 18,
   "id": "8c693598-77e5-42ab-b0c9-2f1175b3c105",
   "metadata": {},
   "outputs": [
    {
     "data": {
      "text/plain": [
       "('Thursday', 'Friday', 'Saturday')"
      ]
     },
     "execution_count": 18,
     "metadata": {},
     "output_type": "execute_result"
    }
   ],
   "source": [
    "# Return the third to last day and everything after\n",
    "days[-3:]"
   ]
  },
  {
   "cell_type": "code",
   "execution_count": 19,
   "id": "dca32142-f828-413e-8266-81591958ef77",
   "metadata": {},
   "outputs": [
    {
     "data": {
      "text/plain": [
       "('Sunday', 'Monday', 'Tuesday', 'Wednesday', 'Thursday', 'Friday')"
      ]
     },
     "execution_count": 19,
     "metadata": {},
     "output_type": "execute_result"
    }
   ],
   "source": [
    "# Return everything up until the last day\n",
    "days[:-1]"
   ]
  },
  {
   "cell_type": "markdown",
   "id": "0b93d4c3-e12a-4b67-8074-28adfebe496f",
   "metadata": {},
   "source": [
    "It may be useful as well to grab an interval of items. We can specify this by adding another `:` delimeter to specify the interval."
   ]
  },
  {
   "cell_type": "code",
   "execution_count": 20,
   "id": "d080c276-7ca1-403c-81dc-451be006b7f9",
   "metadata": {},
   "outputs": [
    {
     "data": {
      "text/plain": [
       "('Monday', 'Wednesday', 'Friday')"
      ]
     },
     "execution_count": 20,
     "metadata": {},
     "output_type": "execute_result"
    }
   ],
   "source": [
    "# Return every other day, starting with Monday\n",
    "days[1:7:2]"
   ]
  },
  {
   "cell_type": "markdown",
   "id": "b2530d21-31f3-416b-ac9d-6194c20fc8c7",
   "metadata": {},
   "source": [
    "## Tuple Operations\n",
    "\n",
    "We can perform various operations on tuples."
   ]
  },
  {
   "cell_type": "markdown",
   "id": "2f7ff217-9fcb-4f0d-b9c0-79556b95e404",
   "metadata": {},
   "source": [
    "### Concatenation\n",
    "\n",
    "We can concatenate together into one tuple using various methods. The simplest way is to use the `+` operator. In this case, the concatenation creastes a new tuple object."
   ]
  },
  {
   "cell_type": "code",
   "execution_count": 21,
   "id": "90765ea2-6629-4708-b7a5-b850c7af011b",
   "metadata": {},
   "outputs": [
    {
     "name": "stdout",
     "output_type": "stream",
     "text": [
      "('John Doe', 'Ford', ['Mustang', 'F150', 'Expedition'])\n"
     ]
    }
   ],
   "source": [
    "print(name + cars)"
   ]
  },
  {
   "cell_type": "markdown",
   "id": "b3698b63-01a7-4f8d-823a-34dc0e8115cc",
   "metadata": {},
   "source": [
    "Another way is to use the `list()` function with the `.extend()` method and then convert back to a tuple using `tuple()`."
   ]
  },
  {
   "cell_type": "code",
   "execution_count": 22,
   "id": "0579a1fa-3c25-4b4f-9742-426378fbe201",
   "metadata": {},
   "outputs": [
    {
     "name": "stdout",
     "output_type": "stream",
     "text": [
      "<class 'tuple'>\n",
      "('John Doe', 'Ford', ['Mustang', 'F150', 'Expedition'])\n"
     ]
    }
   ],
   "source": [
    "x = list(name)\n",
    "y = list(cars)\n",
    "x.extend(y)\n",
    "z = tuple(x)\n",
    "print(type(z))\n",
    "print(z)"
   ]
  },
  {
   "cell_type": "markdown",
   "id": "3c77c0b9-1f82-488c-86f4-9112527da1fc",
   "metadata": {},
   "source": [
    "### Repeat Content\n",
    "\n",
    "We can repeat the elements of a tuple using the `*` operator."
   ]
  },
  {
   "cell_type": "code",
   "execution_count": 23,
   "id": "c25fc8f0-defb-465d-aff7-67780ffb3805",
   "metadata": {},
   "outputs": [
    {
     "data": {
      "text/plain": [
       "('John Doe', 'John Doe', 'John Doe')"
      ]
     },
     "execution_count": 23,
     "metadata": {},
     "output_type": "execute_result"
    }
   ],
   "source": [
    "name * 3"
   ]
  },
  {
   "cell_type": "code",
   "execution_count": 24,
   "id": "503b92b4-63ee-4700-9bbc-c698514d69c9",
   "metadata": {},
   "outputs": [
    {
     "data": {
      "text/plain": [
       "(1, 2, ('a', 'b'), (True, False), 1, 2, ('a', 'b'), (True, False))"
      ]
     },
     "execution_count": 24,
     "metadata": {},
     "output_type": "execute_result"
    }
   ],
   "source": [
    "nested_tuple * 2"
   ]
  },
  {
   "cell_type": "markdown",
   "id": "48b9b0b8-1171-4297-9df1-09993cbc0588",
   "metadata": {},
   "source": [
    "### Length of a Tuple\n",
    "\n",
    "To get the length (number of elements) from a tuple we simply use teh `len()` function."
   ]
  },
  {
   "cell_type": "code",
   "execution_count": 25,
   "id": "3dd6b013-4722-4a89-b2f4-34d0493acd14",
   "metadata": {},
   "outputs": [
    {
     "data": {
      "text/plain": [
       "7"
      ]
     },
     "execution_count": 25,
     "metadata": {},
     "output_type": "execute_result"
    }
   ],
   "source": [
    "len(days)"
   ]
  },
  {
   "cell_type": "markdown",
   "id": "6a74d00e-cf84-49b5-8025-e62d418cded4",
   "metadata": {},
   "source": [
    "### Reversing and Sorting\n",
    "\n",
    "We have built-in functions like `reversed()` and `sorted()` to help when we need to sort or reverse the order of a tuple."
   ]
  },
  {
   "cell_type": "code",
   "execution_count": 26,
   "id": "e144951f-b494-4fc7-b330-0118e53b218c",
   "metadata": {},
   "outputs": [
    {
     "name": "stdout",
     "output_type": "stream",
     "text": [
      "<reversed object at 0x7f42f0aea0e0>\n"
     ]
    },
    {
     "data": {
      "text/plain": [
       "('Saturday', 'Friday', 'Thursday', 'Wednesday', 'Tuesday', 'Monday', 'Sunday')"
      ]
     },
     "execution_count": 26,
     "metadata": {},
     "output_type": "execute_result"
    }
   ],
   "source": [
    "print(reversed(days)) # This returns an iterator object\n",
    "tuple(reversed(days)) # Use the tuple constructor to get \"consume\" the iterator and create a new tuple in reversed order"
   ]
  },
  {
   "cell_type": "markdown",
   "id": "0ccfab5b-126b-4930-a202-d6d925104684",
   "metadata": {},
   "source": [
    "An alternative way to do this is slicing the tuple with a step of -1."
   ]
  },
  {
   "cell_type": "code",
   "execution_count": 27,
   "id": "2afc3521-e411-4052-927d-60820e8c1bfe",
   "metadata": {},
   "outputs": [
    {
     "data": {
      "text/plain": [
       "('Saturday', 'Friday', 'Thursday', 'Wednesday', 'Tuesday', 'Monday', 'Sunday')"
      ]
     },
     "execution_count": 27,
     "metadata": {},
     "output_type": "execute_result"
    }
   ],
   "source": [
    "days[::-1]"
   ]
  },
  {
   "cell_type": "markdown",
   "id": "0fa7e77a-4994-4c22-9c02-88ec62a6e9e7",
   "metadata": {},
   "source": [
    "To sort a tuple use `sorted()` to return a list in asending order. To convert back to a tuple use the `tuple() constructor."
   ]
  },
  {
   "cell_type": "code",
   "execution_count": 28,
   "id": "587527d2-b451-4764-ab4c-a05eb14d7076",
   "metadata": {},
   "outputs": [
    {
     "data": {
      "text/plain": [
       "('Friday', 'Monday', 'Saturday', 'Sunday', 'Thursday', 'Tuesday', 'Wednesday')"
      ]
     },
     "execution_count": 28,
     "metadata": {},
     "output_type": "execute_result"
    }
   ],
   "source": [
    "tuple(sorted(days))"
   ]
  },
  {
   "cell_type": "markdown",
   "id": "331fce9b-3327-4f59-bb40-9985ad9ef74a",
   "metadata": {},
   "source": [
    "To return the tuple in reverse order, use the keyword `reverse` and set its parameter value to `True`."
   ]
  },
  {
   "cell_type": "code",
   "execution_count": 29,
   "id": "f6bc667c-31d2-4b0d-b78e-2d7fad526e98",
   "metadata": {},
   "outputs": [
    {
     "data": {
      "text/plain": [
       "('Wednesday', 'Tuesday', 'Thursday', 'Sunday', 'Saturday', 'Monday', 'Friday')"
      ]
     },
     "execution_count": 29,
     "metadata": {},
     "output_type": "execute_result"
    }
   ],
   "source": [
    "tuple(sorted(days, reverse=True))"
   ]
  },
  {
   "cell_type": "markdown",
   "id": "9b29f839-1558-4c5a-bfa6-c3a8b9fc7d44",
   "metadata": {},
   "source": [
    "### Packing and Unpacking\n",
    "\n",
    "When we create a tuple, we normally assign values to it. This is called \"packing\" a tuple. But, in Python, we are also allowed to extract the values back into variables. This is called \"unpacking\"."
   ]
  },
  {
   "cell_type": "code",
   "execution_count": 30,
   "id": "66dae780-1c42-444f-ad61-1b1ec6f10499",
   "metadata": {},
   "outputs": [
    {
     "name": "stdout",
     "output_type": "stream",
     "text": [
      "<class 'tuple'>\n",
      "(1, 4, 9)\n"
     ]
    }
   ],
   "source": [
    "# \"Pack\" values into the variable `squares` using assignment\n",
    "squares = 1, 4, 9\n",
    "print(type(squares))\n",
    "print(squares)"
   ]
  },
  {
   "cell_type": "code",
   "execution_count": 31,
   "id": "9b3c79ea-7987-4e37-82b9-d3a29e8a4d6b",
   "metadata": {},
   "outputs": [
    {
     "name": "stdout",
     "output_type": "stream",
     "text": [
      "x=1, y=4, z=9\n"
     ]
    }
   ],
   "source": [
    "# Unpack values using the appropriate number of variables\n",
    "x, y, z = squares\n",
    "print(f'x={x}, y={y}, z={z}')"
   ]
  },
  {
   "cell_type": "markdown",
   "id": "07ee31c5-b344-4802-8f34-f7a827d40e42",
   "metadata": {},
   "source": [
    "One particular useful use case for this is swapping values between variables."
   ]
  },
  {
   "cell_type": "code",
   "execution_count": 32,
   "id": "5f8936e3-137b-40e0-a1e1-33b5f633d217",
   "metadata": {},
   "outputs": [
    {
     "name": "stdout",
     "output_type": "stream",
     "text": [
      "Original values: a=100, b=200\n",
      "Swapped values: a=200, b=100\n"
     ]
    }
   ],
   "source": [
    "a, b = 100, 200\n",
    "print(f'Original values: a={a}, b={b}')\n",
    "\n",
    "a, b = b, a\n",
    "print(f'Swapped values: a={a}, b={b}')"
   ]
  },
  {
   "cell_type": "markdown",
   "id": "f849e896-e4c1-48c1-affb-79b74bb40bf7",
   "metadata": {},
   "source": [
    "Lastly, you can use a the packing/unpacking operator, `*`, when you need to be flexbile on how many elements you will need."
   ]
  },
  {
   "cell_type": "code",
   "execution_count": 33,
   "id": "5dd79f27-e867-4b68-893e-601a1cb999d2",
   "metadata": {},
   "outputs": [
    {
     "name": "stdout",
     "output_type": "stream",
     "text": [
      "Sunday\n",
      "['Monday', 'Tuesday', 'Wednesday', 'Thursday', 'Friday']\n",
      "Saturday\n"
     ]
    }
   ],
   "source": [
    "# \n",
    "first, *weekdays, last = days\n",
    "print(first)\n",
    "print(weekdays)\n",
    "print(last)"
   ]
  },
  {
   "cell_type": "code",
   "execution_count": 34,
   "id": "14ad9a06-9f31-4dac-a9ec-c449a83fba95",
   "metadata": {},
   "outputs": [
    {
     "name": "stdout",
     "output_type": "stream",
     "text": [
      "[1, 4]\n",
      "9\n"
     ]
    }
   ],
   "source": [
    "*head, last = squares\n",
    "print(head)\n",
    "print(last)"
   ]
  },
  {
   "cell_type": "markdown",
   "id": "52519ff1-ce3b-415b-9272-39c9b2267109",
   "metadata": {},
   "source": [
    "It's worth noting that these operations are not unique to tuples. Since Python 3.5, any iterable can be unpacked using this syntax."
   ]
  },
  {
   "cell_type": "markdown",
   "id": "b90b7b4f-9c62-48a8-9ddb-ff476c37bf9b",
   "metadata": {},
   "source": [
    "## Comprehension\n",
    "\n",
    "Just like lists, we can create tuples in a quick and effecient way."
   ]
  },
  {
   "cell_type": "code",
   "execution_count": 35,
   "id": "2bc18858-d8ab-4c44-a386-caf41f81423d",
   "metadata": {},
   "outputs": [
    {
     "data": {
      "text/plain": [
       "('Friday', 'Saturday', 'Sunday')"
      ]
     },
     "execution_count": 35,
     "metadata": {},
     "output_type": "execute_result"
    }
   ],
   "source": [
    "# Return only Friday, Saturday, and Sunday to get the weekend\n",
    "index = [5, 6, 0]\n",
    "weekends = (days[x] for x in index)\n",
    "tuple(weekends)"
   ]
  },
  {
   "cell_type": "code",
   "execution_count": 36,
   "id": "541e6b25-1ec3-4e68-b3cf-4dcdd8e7b11a",
   "metadata": {},
   "outputs": [
    {
     "data": {
      "text/plain": [
       "(1, 4, 9, 16, 25)"
      ]
     },
     "execution_count": 36,
     "metadata": {},
     "output_type": "execute_result"
    }
   ],
   "source": [
    "# Convert a list of strings to numbers\n",
    "squares = ('1', '4', '9', '16', '25')\n",
    "squares_conv = (int(square) for square in squares)\n",
    "tuple(squares_conv)"
   ]
  },
  {
   "cell_type": "code",
   "execution_count": null,
   "id": "61045b62-1c93-4532-94e4-a3cfd1404f50",
   "metadata": {},
   "outputs": [],
   "source": []
  }
 ],
 "metadata": {
  "kernelspec": {
   "display_name": "Python 3 (ipykernel)",
   "language": "python",
   "name": "python3"
  },
  "language_info": {
   "codemirror_mode": {
    "name": "ipython",
    "version": 3
   },
   "file_extension": ".py",
   "mimetype": "text/x-python",
   "name": "python",
   "nbconvert_exporter": "python",
   "pygments_lexer": "ipython3",
   "version": "3.11.8"
  }
 },
 "nbformat": 4,
 "nbformat_minor": 5
}
