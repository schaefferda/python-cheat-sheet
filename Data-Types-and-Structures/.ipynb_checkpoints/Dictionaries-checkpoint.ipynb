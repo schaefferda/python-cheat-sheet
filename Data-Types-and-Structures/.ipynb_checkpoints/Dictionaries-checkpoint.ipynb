{
 "cells": [
  {
   "cell_type": "markdown",
   "id": "e45ae1e7-77fe-44c2-ad22-6279f1946bab",
   "metadata": {},
   "source": [
    "# Dictionaries"
   ]
  },
  {
   "cell_type": "markdown",
   "id": "3f9218fa-a954-4372-a716-9292df5fb031",
   "metadata": {},
   "source": [
    "## Overview\n",
    "\n",
    "Dictionaries are used to store data values in `key:value` pairs or _mappings_.\n",
    "\n",
    "Mappings are a collection of objects that are stored by a key, unlike a sequence that stored objects by their relative position. This is an important distinction, since mappings won't retain order since they have objects defined by a key.\n",
    "\n",
    "A Python dictionary consists of a key and then an associated value. That value can be almost any Python object.\n",
    "\n",
    "Dictionaries are one of 4 built-in data types in Python used to store collections of data, the other 3 are Tuple, Set, and Lists, all with different qualities and usage."
   ]
  },
  {
   "cell_type": "markdown",
   "id": "cabb089f-a491-4b3c-8ec1-4da8664d2c1a",
   "metadata": {},
   "source": [
    "## Create a Dictionary\n",
    "\n",
    "We can start with constructing a new dictionary."
   ]
  },
  {
   "cell_type": "code",
   "execution_count": 1,
   "id": "9e65f0bc-9ac3-46d4-8679-ed7427810909",
   "metadata": {},
   "outputs": [
    {
     "data": {
      "text/plain": [
       "{'USA': 'Washington, D.C.',\n",
       " 'Brazil': 'Brasilia',\n",
       " 'Netherlands': 'The Hague',\n",
       " 'Switzerland': 'Bern',\n",
       " 'China': 'Beijing'}"
      ]
     },
     "execution_count": 1,
     "metadata": {},
     "output_type": "execute_result"
    }
   ],
   "source": [
    "# Make a dictionary with \"{}\" and \":\" to signify a key and a value\n",
    "capitals = {'USA':'Washington, D.C.', 'Brazil':'Brasilia', 'Netherlands':'The Hague', 'Switzerland':'Bern', 'China':'Beijing'}\n",
    "capitals"
   ]
  },
  {
   "cell_type": "markdown",
   "id": "46fa1817-afcf-40b8-8bf4-f556c86da291",
   "metadata": {},
   "source": [
    "## Check for Existence\n",
    "\n",
    "Let's check to see if a key resides within the dictionary."
   ]
  },
  {
   "cell_type": "code",
   "execution_count": 2,
   "id": "49e283fb-a8c1-4f99-905e-0f52c97d83d4",
   "metadata": {},
   "outputs": [
    {
     "name": "stdout",
     "output_type": "stream",
     "text": [
      "USA is present\n"
     ]
    }
   ],
   "source": [
    "# Use an `if` statement\n",
    "if 'USA' in capitals:\n",
    "    print('USA is present')"
   ]
  },
  {
   "cell_type": "code",
   "execution_count": 3,
   "id": "68307e5c-22f3-4f92-a40b-4fa8fb450745",
   "metadata": {},
   "outputs": [
    {
     "data": {
      "text/plain": [
       "False"
      ]
     },
     "execution_count": 3,
     "metadata": {},
     "output_type": "execute_result"
    }
   ],
   "source": [
    "# or we can use a boolean statement\n",
    "'China' not in capitals"
   ]
  },
  {
   "cell_type": "markdown",
   "id": "b8b1b0f1-98bb-4caa-9563-8fc890f4c38b",
   "metadata": {},
   "source": [
    "## Add or Update Entries\n",
    "\n",
    "We can add a new entry or update an existing one through assignment."
   ]
  },
  {
   "cell_type": "code",
   "execution_count": 4,
   "id": "3e818409-eea2-469e-8ad8-d1cdab61e4a3",
   "metadata": {},
   "outputs": [
    {
     "data": {
      "text/plain": [
       "{'USA': 'Washington, D.C.',\n",
       " 'Brazil': 'Brasilia',\n",
       " 'Netherlands': 'Amsterdam',\n",
       " 'Switzerland': 'Bern',\n",
       " 'China': 'Beijing',\n",
       " 'Indonesia': 'Jakarta'}"
      ]
     },
     "execution_count": 4,
     "metadata": {},
     "output_type": "execute_result"
    }
   ],
   "source": [
    "capitals['Netherlands'] = 'Amsterdam' # Updates Netherlands' capital\n",
    "capitals['Indonesia'] = 'Jakarta' # Adds Indonesia to the dictionary\n",
    "capitals"
   ]
  },
  {
   "cell_type": "markdown",
   "id": "e08c9375-76a5-4a6a-adc0-0a2d6fe6a994",
   "metadata": {},
   "source": [
    "You can also use the `.update()` method to update an existing item."
   ]
  },
  {
   "cell_type": "markdown",
   "id": "a3e8acd6-cb6c-4c43-873d-7a46d696d061",
   "metadata": {},
   "source": [
    "## Remove an Entry\n",
    "\n",
    "To remove a key-value pair from the dictionary we can utilize one of several methods, depending on our desired outcome. Let's look at the `del` keyword. We'll examine some other methods in the section below."
   ]
  },
  {
   "cell_type": "code",
   "execution_count": 5,
   "id": "0fd669db-09fe-4dd0-8eb9-f8b526ab783f",
   "metadata": {},
   "outputs": [
    {
     "data": {
      "text/plain": [
       "{'USA': 'Washington, D.C.',\n",
       " 'Brazil': 'Brasilia',\n",
       " 'Netherlands': 'Amsterdam',\n",
       " 'Switzerland': 'Bern',\n",
       " 'Indonesia': 'Jakarta'}"
      ]
     },
     "execution_count": 5,
     "metadata": {},
     "output_type": "execute_result"
    }
   ],
   "source": [
    "# The `del` keyword removes an item with the specified `key` name\n",
    "del capitals['China']\n",
    "capitals"
   ]
  },
  {
   "cell_type": "markdown",
   "id": "0cae7e1a-db30-40cc-bfac-071338551888",
   "metadata": {},
   "source": [
    "The `del` keyword can also delete an entire dictionary, so be careful using it."
   ]
  },
  {
   "cell_type": "code",
   "execution_count": 6,
   "id": "2720856c-1ff9-4acc-bc39-89c704fe2c52",
   "metadata": {},
   "outputs": [
    {
     "data": {
      "text/plain": [
       "{'key1': 1, 'key2': 2}"
      ]
     },
     "execution_count": 6,
     "metadata": {},
     "output_type": "execute_result"
    }
   ],
   "source": [
    "temporary_dict = {'key1':1, 'key2':2}\n",
    "temporary_dict"
   ]
  },
  {
   "cell_type": "code",
   "execution_count": 7,
   "id": "c23e9480-8cd5-4c22-8ba2-7fd48fe19fe1",
   "metadata": {},
   "outputs": [
    {
     "name": "stdout",
     "output_type": "stream",
     "text": [
      "No such dictionary exists\n"
     ]
    }
   ],
   "source": [
    "del temporary_dict\n",
    "try:\n",
    "    print(temporary_dict)\n",
    "except:\n",
    "    print('No such dictionary exists')"
   ]
  },
  {
   "cell_type": "markdown",
   "id": "7d417a8e-4838-41e7-900a-434f11e3eafd",
   "metadata": {},
   "source": [
    "## Basic Dictionary Methods\n",
    "\n",
    "There are a few methods we can call on a dictionary. Let's get a quick introduction to a few of them."
   ]
  },
  {
   "cell_type": "markdown",
   "id": "c62571c0-b2f5-4cdf-9cc5-b25f2040c318",
   "metadata": {},
   "source": [
    "### Get\n",
    "\n",
    "Use `.get()` method to return the value of th eitem with the specified key."
   ]
  },
  {
   "cell_type": "code",
   "execution_count": 8,
   "id": "1cad0208-b147-4a1b-a42f-a1661968c2bd",
   "metadata": {},
   "outputs": [
    {
     "data": {
      "text/plain": [
       "'Brasilia'"
      ]
     },
     "execution_count": 8,
     "metadata": {},
     "output_type": "execute_result"
    }
   ],
   "source": [
    "capitals.get('Brazil')"
   ]
  },
  {
   "cell_type": "markdown",
   "id": "7ef72522-060d-4751-a6c4-c8a1f39644d9",
   "metadata": {},
   "source": [
    "If we try to retrieve a value from a key that does not exists we will not get an error. As an optional parameter, we can specify a value to return if the key does not exist."
   ]
  },
  {
   "cell_type": "code",
   "execution_count": 9,
   "id": "fb7755be-82ba-4684-a862-d00c05b0f61a",
   "metadata": {},
   "outputs": [],
   "source": [
    "capitals.get('Mexico') # returns None"
   ]
  },
  {
   "cell_type": "code",
   "execution_count": 10,
   "id": "ad62333c-0a7c-41bb-aca5-ea1118b5b20e",
   "metadata": {},
   "outputs": [
    {
     "data": {
      "text/plain": [
       "'Mexico City'"
      ]
     },
     "execution_count": 10,
     "metadata": {},
     "output_type": "execute_result"
    }
   ],
   "source": [
    "capitals.get('Mexico', 'Mexico City') # returns the value we specify if \"Mexico\" is not found"
   ]
  },
  {
   "cell_type": "markdown",
   "id": "297b3cc0-1500-4e8f-bf04-17c367e9daa5",
   "metadata": {},
   "source": [
    "### Items\n",
    "\n",
    "The `.items()` method returns a view object represented as tuples of all key-value pairs in a list. The view object is dynamic, which means when the dictionary changes those changes are reflected in the view object.\n",
    "\n",
    "This view object can be used to iterate over the dictionary to retrieve their respective data (see __*Iterating*__ section)"
   ]
  },
  {
   "cell_type": "code",
   "execution_count": 11,
   "id": "778f8128-879d-4ae9-9e36-5d1e585638fe",
   "metadata": {},
   "outputs": [
    {
     "data": {
      "text/plain": [
       "dict_items([('USA', 'Washington, D.C.'), ('Brazil', 'Brasilia'), ('Netherlands', 'Amsterdam'), ('Switzerland', 'Bern'), ('Indonesia', 'Jakarta')])"
      ]
     },
     "execution_count": 11,
     "metadata": {},
     "output_type": "execute_result"
    }
   ],
   "source": [
    "capitals.items()"
   ]
  },
  {
   "cell_type": "markdown",
   "id": "462a4c63-e098-4244-899c-121053915501",
   "metadata": {},
   "source": [
    "### Keys\n",
    "\n",
    "The `.keys()` method returns a view object. The view object contains the keys of the dictionary, as a list."
   ]
  },
  {
   "cell_type": "code",
   "execution_count": 12,
   "id": "60b90d81-70ef-4623-a8a9-264df7f4cf50",
   "metadata": {},
   "outputs": [
    {
     "data": {
      "text/plain": [
       "dict_keys(['USA', 'Brazil', 'Netherlands', 'Switzerland', 'Indonesia'])"
      ]
     },
     "execution_count": 12,
     "metadata": {},
     "output_type": "execute_result"
    }
   ],
   "source": [
    "capitals.keys()"
   ]
  },
  {
   "cell_type": "markdown",
   "id": "573041c2-f927-4b31-82f1-6c8b5883efa9",
   "metadata": {},
   "source": [
    "### Pop\n",
    "\n",
    "Use `.pop()` to \"pop off\" an item from the dictionary. This removes and returns the _value_ of the specified _key_. As an optional parameter, you can specify the value to return. If no value is given and the key does not exist then an error will be raised."
   ]
  },
  {
   "cell_type": "code",
   "execution_count": 13,
   "id": "b6e81a42-e3aa-4f91-9978-cb8f459375a2",
   "metadata": {},
   "outputs": [
    {
     "data": {
      "text/plain": [
       "'Brasilia'"
      ]
     },
     "execution_count": 13,
     "metadata": {},
     "output_type": "execute_result"
    }
   ],
   "source": [
    "capitals.pop('Brazil')"
   ]
  },
  {
   "cell_type": "code",
   "execution_count": 14,
   "id": "2df4058c-f7c8-4cdc-af9f-2a8e1a827a7e",
   "metadata": {},
   "outputs": [
    {
     "data": {
      "text/plain": [
       "'Sao Paulo'"
      ]
     },
     "execution_count": 14,
     "metadata": {},
     "output_type": "execute_result"
    }
   ],
   "source": [
    "capitals.pop('Brazil', 'Sao Paulo')"
   ]
  },
  {
   "cell_type": "markdown",
   "id": "d41173eb-7970-4109-85ff-408321f78dbe",
   "metadata": {},
   "source": [
    "### Popitem\n",
    "\n",
    "This is similar to `.pop()`, but `.popitem()` has no parameters and returns a key-value pair based on Last-in, First-out order (LIFO). This can be useful to destructively iterate over a dictionary."
   ]
  },
  {
   "cell_type": "code",
   "execution_count": 15,
   "id": "941a5354-d57b-4bbf-b521-aa66475a2607",
   "metadata": {},
   "outputs": [
    {
     "name": "stdout",
     "output_type": "stream",
     "text": [
      "{'USA': 'Washington, D.C.', 'Netherlands': 'Amsterdam', 'Switzerland': 'Bern', 'Indonesia': 'Jakarta'}\n",
      "{'USA': 'Washington, D.C.', 'Netherlands': 'Amsterdam', 'Switzerland': 'Bern'}\n"
     ]
    }
   ],
   "source": [
    "print(capitals)\n",
    "capitals.popitem()\n",
    "print(capitals)"
   ]
  },
  {
   "cell_type": "markdown",
   "id": "52937676-8e1a-4381-af35-3fa16d63df14",
   "metadata": {},
   "source": [
    "### Values\n",
    "\n",
    "The `.values()` method returns a view object. The view object contains the values of the dictionary, as a list."
   ]
  },
  {
   "cell_type": "code",
   "execution_count": 16,
   "id": "db2ff267-172f-49e5-b5a4-65fab20f86bc",
   "metadata": {},
   "outputs": [
    {
     "data": {
      "text/plain": [
       "dict_values(['Washington, D.C.', 'Amsterdam', 'Bern'])"
      ]
     },
     "execution_count": 16,
     "metadata": {},
     "output_type": "execute_result"
    }
   ],
   "source": [
    "capitals.values()"
   ]
  },
  {
   "cell_type": "markdown",
   "id": "65be94d2-4802-47eb-8dcd-29ea059f7b5a",
   "metadata": {},
   "source": [
    "## Iterating\n",
    "\n",
    "We can iterate over the keys or values of a dictionary."
   ]
  },
  {
   "cell_type": "code",
   "execution_count": 17,
   "id": "748429d9-a4a1-4fe2-b613-03a37fe5820f",
   "metadata": {},
   "outputs": [
    {
     "name": "stdout",
     "output_type": "stream",
     "text": [
      "The key (country): USA\n",
      "The key (country): Netherlands\n",
      "The key (country): Switzerland\n"
     ]
    }
   ],
   "source": [
    "# Iterate over and print each key in the dictionary\n",
    "for country in capitals: # this is identical to using capitals.keys()\n",
    "    print(f'The key (country): {country}')"
   ]
  },
  {
   "cell_type": "raw",
   "id": "45c4bb14-37f4-44db-95d4-d902a712f0f4",
   "metadata": {},
   "source": [
    "# Iterate over and print each value in the dictionary\n",
    "for capital in capitals.values():\n",
    "    print(f'The value (capital): {capital}')"
   ]
  },
  {
   "cell_type": "markdown",
   "id": "6178ead6-131f-4f9a-a017-fe49d51cbf0e",
   "metadata": {},
   "source": [
    "We can also iterate over the key:value pair simultaneously"
   ]
  },
  {
   "cell_type": "code",
   "execution_count": 18,
   "id": "a0f0681f-5890-4729-8bfb-a0af03b4e49e",
   "metadata": {},
   "outputs": [
    {
     "name": "stdout",
     "output_type": "stream",
     "text": [
      "The capital of USA is Washington, D.C.\n",
      "The capital of Netherlands is Amsterdam\n",
      "The capital of Switzerland is Bern\n"
     ]
    }
   ],
   "source": [
    "for country, capital in capitals.items():\n",
    "    print(f'The capital of {country} is {capital}')"
   ]
  },
  {
   "cell_type": "markdown",
   "id": "a5b901ea-056f-44d3-ac6a-8186ff6f8530",
   "metadata": {},
   "source": [
    "## Dictionary Comprehension\n",
    "\n",
    "Similar to list comprehension, we can conjure a new dictionary through a single line of code. The basic syntax is `{key:value for item in iterable}`"
   ]
  },
  {
   "cell_type": "code",
   "execution_count": 19,
   "id": "7bee613b-bcab-434e-92cc-722c8dd16429",
   "metadata": {},
   "outputs": [
    {
     "data": {
      "text/plain": [
       "{0: 0, 1: 1, 2: 4, 3: 9, 4: 16}"
      ]
     },
     "execution_count": 19,
     "metadata": {},
     "output_type": "execute_result"
    }
   ],
   "source": [
    "squares = {x: x**2 for x in range(5)}\n",
    "squares"
   ]
  },
  {
   "cell_type": "markdown",
   "id": "1b5c68e5-3bf1-4494-88e1-cca423600655",
   "metadata": {},
   "source": [
    "The iterable can be an existing list or dictionary."
   ]
  },
  {
   "cell_type": "code",
   "execution_count": 20,
   "id": "f475866f-76a8-459e-b890-13259847e121",
   "metadata": {},
   "outputs": [
    {
     "data": {
      "text/plain": [
       "{'USA': 5737, 'Netherlands': 6366, 'Switzerland': 4117}"
      ]
     },
     "execution_count": 20,
     "metadata": {},
     "output_type": "execute_result"
    }
   ],
   "source": [
    "import random\n",
    "population = {country: random.randint(1,10000) for country in capitals.keys()}\n",
    "population"
   ]
  },
  {
   "cell_type": "markdown",
   "id": "983e1ec0-3202-483b-b9c0-c73fd48f448a",
   "metadata": {},
   "source": [
    "We can also create a dictionary from two lists (or any iterable) using comprehension.\n",
    "\n",
    "> __Note__: The `zip` function takes in a sequence of iterables - two lists in this case - as the argument and returns an iterator of tuples"
   ]
  },
  {
   "cell_type": "code",
   "execution_count": 21,
   "id": "bf46cc75-4e90-47fd-b638-22aee1928040",
   "metadata": {},
   "outputs": [
    {
     "data": {
      "text/plain": [
       "{'Monday': 72, 'Tuesday': 78, 'Wednesday': 79, 'Thursday': 68, 'Friday': 75}"
      ]
     },
     "execution_count": 21,
     "metadata": {},
     "output_type": "execute_result"
    }
   ],
   "source": [
    "weekdays = ['Monday', 'Tuesday', 'Wednesday', 'Thursday', 'Friday']\n",
    "temperature = [72, 78, 79, 68, 75]\n",
    "\n",
    "daily_temp = {day:temp for (day, temp) in zip(weekdays, temperature)}\n",
    "daily_temp"
   ]
  },
  {
   "cell_type": "markdown",
   "id": "23c7f6b3-5c11-430b-83f5-701abc1ea214",
   "metadata": {},
   "source": [
    "## Merging Dictionaries\n",
    "\n",
    "To merge two or more dictionaries we can either use the more modern merge operator (represented by `|`) or use unpacking (represented by `**`) for earlier versions of Python."
   ]
  },
  {
   "cell_type": "code",
   "execution_count": 22,
   "id": "d59bb85c-261c-4355-8b52-f8bc922151e6",
   "metadata": {},
   "outputs": [
    {
     "data": {
      "text/plain": [
       "{'USA': 'Washington, D.C.',\n",
       " 'Netherlands': 'Amsterdam',\n",
       " 'Switzerland': 'Bern',\n",
       " 0: 0,\n",
       " 1: 1,\n",
       " 2: 4,\n",
       " 3: 9,\n",
       " 4: 16}"
      ]
     },
     "execution_count": 22,
     "metadata": {},
     "output_type": "execute_result"
    }
   ],
   "source": [
    "# Use merge operator\n",
    "merged = capitals | squares # Python 3.9+\n",
    "merged"
   ]
  },
  {
   "cell_type": "code",
   "execution_count": 23,
   "id": "a62090b8-6a0d-4ef6-9a71-65b28a2171d9",
   "metadata": {},
   "outputs": [
    {
     "data": {
      "text/plain": [
       "{'USA': 'Washington, D.C.',\n",
       " 'Netherlands': 'Amsterdam',\n",
       " 'Switzerland': 'Bern',\n",
       " 'Monday': 72,\n",
       " 'Tuesday': 78,\n",
       " 'Wednesday': 79,\n",
       " 'Thursday': 68,\n",
       " 'Friday': 75}"
      ]
     },
     "execution_count": 23,
     "metadata": {},
     "output_type": "execute_result"
    }
   ],
   "source": [
    "# Use unpacking\n",
    "merged = {**capitals, **daily_temp} # Python 3+\n",
    "merged"
   ]
  },
  {
   "cell_type": "markdown",
   "id": "a52472b4-490d-4bc9-a601-b732981d44c8",
   "metadata": {},
   "source": [
    "Merges happen from right to left, `dict_a <- dict_b`. If we try to merge dictionaries that have similar keys, the values from the right dictionary will overide the values from the left."
   ]
  },
  {
   "cell_type": "code",
   "execution_count": 24,
   "id": "05242f98-1761-44e3-bbc9-0613024fc867",
   "metadata": {},
   "outputs": [
    {
     "data": {
      "text/plain": [
       "{'USA': 5737, 'Netherlands': 6366, 'Switzerland': 4117}"
      ]
     },
     "execution_count": 24,
     "metadata": {},
     "output_type": "execute_result"
    }
   ],
   "source": [
    "merged = capitals | population\n",
    "merged"
   ]
  },
  {
   "cell_type": "code",
   "execution_count": null,
   "id": "3236b96a-56de-43bb-95d3-0e5e604d03ed",
   "metadata": {},
   "outputs": [],
   "source": []
  }
 ],
 "metadata": {
  "kernelspec": {
   "display_name": "Python 3 (ipykernel)",
   "language": "python",
   "name": "python3"
  },
  "language_info": {
   "codemirror_mode": {
    "name": "ipython",
    "version": 3
   },
   "file_extension": ".py",
   "mimetype": "text/x-python",
   "name": "python",
   "nbconvert_exporter": "python",
   "pygments_lexer": "ipython3",
   "version": "3.9.18"
  }
 },
 "nbformat": 4,
 "nbformat_minor": 5
}
