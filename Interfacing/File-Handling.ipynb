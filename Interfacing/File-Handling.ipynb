{
 "cells": [
  {
   "cell_type": "markdown",
   "metadata": {},
   "source": [
    "# Reading and Writing to Files"
   ]
  },
  {
   "cell_type": "markdown",
   "metadata": {
    "jp-MarkdownHeadingCollapsed": true
   },
   "source": [
    "## Overview\n",
    "\n",
    "One of the most common tasks that you can do with Python is reading and writing files. Whether it’s writing to a simple text file, reading a complicated server log, or even analyzing raw byte data, all of these situations require reading or writing a file."
   ]
  },
  {
   "cell_type": "markdown",
   "metadata": {},
   "source": [
    "## Create a New File\n",
    "\n",
    "To create a new file, use the `open()` function with one of the following mode parameters:\n",
    "\n",
    " * `x` - __Create__: will create a file, returns an error if the file already exists\n",
    " * `a` - __Append__: will create file if the specified file does not exist or add to the end if it does.\n",
    " * `w` - __Write__: will create a file if the specified file does not exist or overwrite if it does."
   ]
  },
  {
   "cell_type": "code",
   "execution_count": 1,
   "metadata": {},
   "outputs": [],
   "source": [
    "with open('example.txt', 'w') as file:\n",
    "    file.write('Hello, this is a sample text file for demonstrating file manipulation in Python')\n",
    "    file.write('\\nFeel free to experiment with various file operations.') # the \"\\n\" creates a new line"
   ]
  },
  {
   "cell_type": "markdown",
   "metadata": {},
   "source": [
    "## Read a File\n",
    "\n",
    "The `open()` function returns a file object, which has a `read()` method for reading the content of the file. This will read the current contents of the file and output its entirety."
   ]
  },
  {
   "cell_type": "code",
   "execution_count": 2,
   "metadata": {},
   "outputs": [
    {
     "name": "stdout",
     "output_type": "stream",
     "text": [
      "Hello, this is a sample text file for demonstrating file manipulation in Python\n",
      "Feel free to experiment with various file operations.\n"
     ]
    }
   ],
   "source": [
    "with open('example.txt', 'r') as file:\n",
    "    content = file.read()\n",
    "    print(content)"
   ]
  },
  {
   "cell_type": "markdown",
   "metadata": {},
   "source": [
    "If a file is located in different directory you will need to specify the absolute path.\n",
    "\n",
    "By default the `read()` method returns the entire text, but you can specify how many characters to return."
   ]
  },
  {
   "cell_type": "code",
   "execution_count": 3,
   "metadata": {},
   "outputs": [
    {
     "name": "stdout",
     "output_type": "stream",
     "text": [
      "Hello, this is a sam\n"
     ]
    }
   ],
   "source": [
    "with open('example.txt', 'r') as file:\n",
    "    print(file.read(20))"
   ]
  },
  {
   "cell_type": "markdown",
   "metadata": {},
   "source": [
    "There are multiple methods that can be called on a file object:\n",
    "\n",
    "|     __Method__     |      __Description__       |\n",
    "|--------------------|----------------------------|\n",
    "|  `.read()`         | Reads from the file. If no argument is passed (or `None` or -1) then entire file is read. |\n",
    "|  `.readline()`     | Reads one line and then wraps back around. |\n",
    "|  `.readlines()`    | Reads remaining lines from file object and returns them as a list. |"
   ]
  },
  {
   "cell_type": "markdown",
   "metadata": {},
   "source": [
    "## Write to a File\n",
    "\n",
    "Be careful using this command on existing files as this will overwrite all the existing content with the new content"
   ]
  },
  {
   "cell_type": "code",
   "execution_count": 4,
   "metadata": {},
   "outputs": [],
   "source": [
    "with open('example.txt', 'w') as file:\n",
    "    file.write('Python is an amazing programming language!')"
   ]
  },
  {
   "cell_type": "markdown",
   "metadata": {},
   "source": [
    "If we now rerun our previous code to read a file we will see that the output is different"
   ]
  },
  {
   "cell_type": "code",
   "execution_count": 5,
   "metadata": {},
   "outputs": [
    {
     "name": "stdout",
     "output_type": "stream",
     "text": [
      "Python is an amazing programming language!\n"
     ]
    }
   ],
   "source": [
    "with open('example.txt', 'r') as file:\n",
    "    print(file.read())"
   ]
  },
  {
   "cell_type": "markdown",
   "metadata": {},
   "source": [
    "## Append to a File\n",
    "\n",
    "We can append rather than write to add text to the end of an existing file and avoid overwriting its contents."
   ]
  },
  {
   "cell_type": "code",
   "execution_count": 6,
   "metadata": {},
   "outputs": [],
   "source": [
    "with open('example.txt', 'a') as file:\n",
    "    file.write(\"\\nIt's versatile, powerful, and easy to learn.\")"
   ]
  },
  {
   "cell_type": "code",
   "execution_count": 7,
   "metadata": {},
   "outputs": [
    {
     "name": "stdout",
     "output_type": "stream",
     "text": [
      "Python is an amazing programming language!\n",
      "It's versatile, powerful, and easy to learn.\n"
     ]
    }
   ],
   "source": [
    "with open('example.txt', 'r') as file:\n",
    "    content = file.read()\n",
    "    print(content)"
   ]
  },
  {
   "cell_type": "markdown",
   "metadata": {},
   "source": [
    "## Read Lines Into a List\n",
    "\n",
    "If we want to extract individual lines we can do this with the `readlines()` method. This will read the file line by line and save the content into a list."
   ]
  },
  {
   "cell_type": "code",
   "execution_count": 8,
   "metadata": {},
   "outputs": [],
   "source": [
    "with open('example.txt', 'r') as file:\n",
    "    lines = file.readlines()"
   ]
  },
  {
   "cell_type": "markdown",
   "metadata": {},
   "source": [
    "We can see check the content of the variable `lines` and iterate over it to see its output."
   ]
  },
  {
   "cell_type": "code",
   "execution_count": 9,
   "metadata": {},
   "outputs": [
    {
     "name": "stdout",
     "output_type": "stream",
     "text": [
      "<class 'list'>\n",
      "['Python is an amazing programming language!\\n', \"It's versatile, powerful, and easy to learn.\"]\n"
     ]
    }
   ],
   "source": [
    "print(type(lines))\n",
    "print(lines)"
   ]
  },
  {
   "cell_type": "code",
   "execution_count": 10,
   "metadata": {},
   "outputs": [
    {
     "name": "stdout",
     "output_type": "stream",
     "text": [
      "0: Python is an amazing programming language!\n",
      "1: It's versatile, powerful, and easy to learn.\n"
     ]
    }
   ],
   "source": [
    "for x in range(len(lines)):\n",
    "    print(f'{x}: {lines[x].strip()}')"
   ]
  },
  {
   "cell_type": "markdown",
   "metadata": {},
   "source": [
    "The `.strip()` method above removes any spaces at the beginning and end of the line (string)"
   ]
  },
  {
   "cell_type": "markdown",
   "metadata": {},
   "source": [
    "## Iterate Over Each Line in a File\n",
    "\n",
    "A common thing to do while reading a file is to iterate over each line. We can process each line in a file directly within our function call."
   ]
  },
  {
   "cell_type": "code",
   "execution_count": 11,
   "metadata": {},
   "outputs": [
    {
     "name": "stdout",
     "output_type": "stream",
     "text": [
      "Python is an amazing programming language!\n",
      "\n",
      "It's versatile, powerful, and easy to learn.\n"
     ]
    }
   ],
   "source": [
    "with open('example.txt', 'r') as file:\n",
    "    for line in file:\n",
    "        print(line) # notice the output when we don't add .strip()"
   ]
  },
  {
   "cell_type": "markdown",
   "metadata": {},
   "source": [
    "Likewise, we can iterate using a `while` loop"
   ]
  },
  {
   "cell_type": "code",
   "execution_count": 12,
   "metadata": {},
   "outputs": [
    {
     "name": "stdout",
     "output_type": "stream",
     "text": [
      "Python is an amazing programming language!\n",
      "It's versatile, powerful, and easy to learn."
     ]
    }
   ],
   "source": [
    "with open('example.txt', 'r') as file:\n",
    "    line = file.readline()\n",
    "    while line != '': # the EOF char is an empty string\n",
    "        print(line, end='')\n",
    "        line = file.readline()"
   ]
  },
  {
   "cell_type": "markdown",
   "metadata": {},
   "source": [
    "## Check If a File Exisits\n",
    "\n",
    "Sometimes it is usefule to check if a file even exists before we perform any operations on it. We will need the built in [`os`](https://docs.python.org/3/library/os.html) module to accomplish this. _(See also [`os.path`](https://docs.python.org/3/library/os.path.html#os.path.exists) module.)_"
   ]
  },
  {
   "cell_type": "code",
   "execution_count": 13,
   "metadata": {},
   "outputs": [
    {
     "name": "stdout",
     "output_type": "stream",
     "text": [
      "The file \"example.txt\" exists in your path.\n"
     ]
    }
   ],
   "source": [
    "import os\n",
    "filename = 'example.txt'\n",
    "if os.path.exists(filename):\n",
    "    print(f'The file \"{filename}\" exists in your path.')\n",
    "else:\n",
    "    print(f'The file \"{filename}\" does not exist in your path.')"
   ]
  },
  {
   "cell_type": "markdown",
   "metadata": {},
   "source": [
    "## Write Lists to a File\n",
    "\n",
    "Use this to write each element of a list to a new line in a file. Becareful with this manipulation as it will overwrite the existing content just like before."
   ]
  },
  {
   "cell_type": "code",
   "execution_count": 14,
   "metadata": {},
   "outputs": [],
   "source": [
    "lines = ['This file contains lines of text that we manipulate using Python\\'s file handling capabilities'\n",
    "         ,'Here\\'s a newly added line to the text file.']\n",
    "with open('example.txt', 'w') as file:\n",
    "    for line in lines:\n",
    "        file.write(f'{line}\\n')"
   ]
  },
  {
   "cell_type": "markdown",
   "metadata": {},
   "source": [
    "If we read the contents of the file now we can see all of the lines we've added so far."
   ]
  },
  {
   "cell_type": "code",
   "execution_count": 15,
   "metadata": {},
   "outputs": [
    {
     "name": "stdout",
     "output_type": "stream",
     "text": [
      "This file contains lines of text that we manipulate using Python's file handling capabilities\n",
      "Here's a newly added line to the text file.\n",
      "\n"
     ]
    }
   ],
   "source": [
    "with open('example.txt', 'r') as file:\n",
    "    print(file.read())"
   ]
  },
  {
   "cell_type": "markdown",
   "metadata": {},
   "source": [
    "## Manipulate Multiple Files\n",
    "\n",
    "To work with multiple files simultaneously we can use several `open()` functions in our `with` block."
   ]
  },
  {
   "cell_type": "code",
   "execution_count": 16,
   "metadata": {},
   "outputs": [],
   "source": [
    "with open('info.txt', 'w') as destination, open('example.txt', 'r') as source:\n",
    "    content = source.read()\n",
    "    destination.write(content)"
   ]
  },
  {
   "cell_type": "markdown",
   "metadata": {},
   "source": [
    "## Delete Files\n",
    "\n",
    "We can delete unwanted files by using the `os` module and running its `os.remove()` function as follows."
   ]
  },
  {
   "cell_type": "code",
   "execution_count": 17,
   "metadata": {},
   "outputs": [],
   "source": [
    "import os\n",
    "os.remove('info.txt')"
   ]
  },
  {
   "cell_type": "markdown",
   "metadata": {},
   "source": [
    "However, a better approach to avoid getting errors we might want to check if the file exists first. We can implement code from section 6 to do this."
   ]
  },
  {
   "cell_type": "code",
   "execution_count": 18,
   "metadata": {},
   "outputs": [
    {
     "name": "stdout",
     "output_type": "stream",
     "text": [
      "The file \"info.txt\" does not exist.\n"
     ]
    }
   ],
   "source": [
    "if os.path.exists('info.txt'):\n",
    "    os.remove('info.txt')\n",
    "    print('The file \"info.txt\" was deleted.')\n",
    "else:\n",
    "    print('The file \"info.txt\" does not exist.')"
   ]
  },
  {
   "cell_type": "markdown",
   "metadata": {},
   "source": [
    "Since we already deleted the file, our output shows that the _info.txt_ file doesn't exist."
   ]
  },
  {
   "cell_type": "markdown",
   "metadata": {},
   "source": [
    "## Read and Write to Binary Files\n",
    "\n",
    "We can also read and write to a file in binary mode by utilizing the `'b'` parameter, which is useful for images, videos, etc."
   ]
  },
  {
   "cell_type": "code",
   "execution_count": null,
   "metadata": {},
   "outputs": [],
   "source": [
    "with open ('image.jpg', 'rb') as file:\n",
    "    content = file.read()\n",
    "\n",
    "with open('image.jpg', 'wb') as file:\n",
    "    file.write(content)"
   ]
  }
 ],
 "metadata": {
  "kernelspec": {
   "display_name": "Python 3 (ipykernel)",
   "language": "python",
   "name": "python3"
  },
  "language_info": {
   "codemirror_mode": {
    "name": "ipython",
    "version": 3
   },
   "file_extension": ".py",
   "mimetype": "text/x-python",
   "name": "python",
   "nbconvert_exporter": "python",
   "pygments_lexer": "ipython3",
   "version": "3.9.18"
  }
 },
 "nbformat": 4,
 "nbformat_minor": 4
}
